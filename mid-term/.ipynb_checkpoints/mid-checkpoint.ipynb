{
 "cells": [
  {
   "cell_type": "code",
   "execution_count": 1,
   "metadata": {
    "nbpresent": {
     "id": "eab5cc76-cf9b-4cea-94e2-e64bb45e9c81"
    }
   },
   "outputs": [
    {
     "name": "stdout",
     "output_type": "stream",
     "text": [
      "Solving with optimum parameters: \n",
      "a11 32.0\n",
      "a12 46.0\n",
      "a21 -53.0\n",
      "a22 -75.0\n",
      "b1 275.0\n",
      "b2 -470.0\n",
      "c1 18.0\n",
      "c2 27.0\n",
      "x1 = 8.86792\n",
      "x2 = 0.0\n",
      "objective= 159.62256\n"
     ]
    }
   ],
   "source": [
    "\n",
    "from pulp import * \n",
    "import numpy as np\n",
    "import datetime\n",
    "from functools import reduce\n",
    "from operator import mul\n",
    "import math\n",
    "\n",
    "\n",
    "how_many_minutes_we_can_wait = 1\n",
    "characterized_performance_ops = 36000\n",
    "number_of_parameter_dimensions = 7\n",
    "steps_per_range = math.pow( (how_many_minutes_we_can_wait * characterized_performance_ops), 1/number_of_parameter_dimensions)\n",
    "\n",
    "# if using distributions, random selection, and time\n",
    "now = datetime.datetime.now()\n",
    "stop_time = now + datetime.timedelta(minutes=1)\n",
    "\n",
    "max_objective_value = float(\"+Inf\")\n",
    "\n",
    "a11_best = 0.0\n",
    "a12_best = 0.0\n",
    "a21_best = 0.0\n",
    "a22_best = 0.0\n",
    "b1_best = 0.0\n",
    "b2_best = 0.0\n",
    "c1_best = 0.0\n",
    "c2_best = 0.0\n",
    "\n",
    "a11_range = np.linspace(28.0, 32.0, num=math.floor(steps_per_range))\n",
    "a12_range = np.linspace(46, 55, num=math.floor(steps_per_range))\n",
    "a21_range = np.linspace(-53, -48, num=math.floor(steps_per_range))\n",
    "a22_range = np.linspace(-75, -66, num=math.floor(steps_per_range))\n",
    "b1_range = np.linspace(275, 325, num=math.floor(steps_per_range))\n",
    "b2_range = np.linspace(-540, -470, num=math.floor(steps_per_range))\n",
    "c1_range = np.linspace(18, 22, num=math.floor(steps_per_range))\n",
    "c2_range = np.linspace(27, 33, num=math.floor(steps_per_range))\n",
    "\n",
    "# this is okay if we can use huerisitics\n",
    "# a11_range = np.arange(3.6, 4.4, 0.1)\n",
    "# a22_range = np.arange(-1.4, -0.6, 0.1)\n",
    "# a33_range = np.arange(2.5, 3.5, 0.1)\n",
    "# b1_range = np.arange(27.0, 33.0, 0.1)\n",
    "# b2_range = np.arange(19.0, 22.0, 0.1)\n",
    "# c2_range = np.arange(-9.0, -7.0, 0.1)\n",
    "# c3_range = np.arange(3.0, 5.0, 0.1)\n",
    "\n",
    "parameter_optimization_ranges = [a11_range, a12_range, a21_range, a22_range, b1_range, b2_range, c1_range, c2_range]\n",
    "# total_operations_count = reduce(mul, [ len(rng) for rng in parameter_optimization_ranges], 1)\n",
    "# print(\"this will take \" + str(total_operations_count/36000) + \" minutes.\")\n",
    "# exit()\n",
    "\n",
    "counter = 0\n",
    "\n",
    "# Variables, lower bounds added here\n",
    "x1 = LpVariable(\"x1\",lowBound=0) \n",
    "x2 = LpVariable(\"x2\",lowBound=0) \n",
    "\n",
    "z = LpVariable(\"z\", 0) \n",
    "\n",
    "# loop over parameter ranges\n",
    "for a11 in a11_range:\n",
    "    for a12 in a12_range:\n",
    "        for a21 in a21_range:\n",
    "            for a22 in a22_range:\n",
    "                for b1 in b1_range:\n",
    "                    for b2 in b2_range:\n",
    "                        for c1 in c1_range:\n",
    "                            for c2 in c2_range:\n",
    "                                counter = counter + 1\n",
    "\n",
    "                                prob = LpProblem(\"mid_p4\", LpMinimize) \n",
    "\n",
    "                                # Objective \n",
    "                                prob += c1*x1 + c2*x2\n",
    "\n",
    "                                # Constraints \n",
    "                                prob += a11*x1 + a12*x2 >= b1 # resource 1 \n",
    "                                prob += a21*x1 + a22*x2 <= b2 # resource 2 \n",
    "                           \n",
    "                                # Solve using GLPK\n",
    "                                GLPK().solve(prob) \n",
    "\n",
    "                                # If solution is better, update best parameters\n",
    "                                if value(prob.objective) < max_objective_value:\n",
    "                                    max_objective_value = value(prob.objective)\n",
    "                                    a11_best = a11\n",
    "                                    a12_best = a12\n",
    "                                    a21_best = a21\n",
    "                                    a22_best = a22\n",
    "                                    b1_best = b1\n",
    "                                    b2_best = b2\n",
    "                                    c1_best = c1\n",
    "                                    c2_best = c2\n",
    "\n",
    "                #if datetime.datetime.now() >= stop_time:\n",
    "                #    print(counter)\n",
    "                #    exit()                             \n",
    "\n",
    "\n",
    "# from multiprocessing import Pool\n",
    "# if __name__ == '__main__':\n",
    "\n",
    "#     p = Pool(8)\n",
    "#     p.map(a3dProcess,subject_uuids_list)\n",
    "\n",
    "# Solve solution again with best parameters\n",
    "a11 = a11_best\n",
    "a12 = a12_best\n",
    "a21 = a21_best\n",
    "a22 = a22_best\n",
    "b1 = b1_best\n",
    "b2 = b2_best\n",
    "c1 = c1_best\n",
    "c2 = c2_best\n",
    "print(\"Solving with optimum parameters: \")\n",
    "print(\"a11 \" + str(a11))\n",
    "print(\"a12 \" + str(a12))\n",
    "print(\"a21 \" + str(a21))\n",
    "print(\"a22 \" + str(a22))\n",
    "print(\"b1 \" + str(b1))\n",
    "print(\"b2 \" + str(b2))\n",
    "print(\"c1 \" + str(c1))\n",
    "print(\"c2 \" + str(c2))\n",
    "      \n",
    "prob = LpProblem(\"mid_p4\", LpMinimize) \n",
    "\n",
    "# Objective \n",
    "prob += c1*x1 + c2*x2\n",
    "\n",
    "# Constraints \n",
    "prob += a11*x1 + a12*x2 >= b1 # resource 1 \n",
    "prob += a21*x1 + a22*x2 <= b2 # resource 2 \n",
    "\n",
    "# Solve using GLPK\n",
    "GLPK().solve(prob) \n",
    "for v in prob.variables(): \n",
    "    print (v.name, \"=\", v.varValue)\n",
    "\n",
    "print (\"objective=\", value(prob.objective) )"
   ]
  },
  {
   "cell_type": "markdown",
   "metadata": {
    "nbpresent": {
     "id": "de7c7c8a-2584-4a42-97ca-cc9185b5eaf2"
    }
   },
   "source": [
    "b) For the robust optimization, I used naive search over the parameter space and a simple computational estimate was used to define paramater range specificity.  Here are the robust optimal results, z ~= 200.0:  \n",
    "\n",
    "a11 3.6  \n",
    "a22 -1.4  \n",
    "a33 2.857140873  \n",
    "b1 27.0  \n",
    "b2 22.0  \n",
    "c2 -7.0  \n",
    "c3 5.0  \n",
    "  \n",
    "x1 = 0.0  \n",
    "x2 = 15428400.0  \n",
    "x3 = 21599800.0  \n",
    "  \n",
    "objective= 200.0  "
   ]
  },
  {
   "cell_type": "markdown",
   "metadata": {
    "nbpresent": {
     "id": "b46193d4-a314-4e6c-9277-e039e1ee04a8"
    }
   },
   "source": [
    "#### Problem 7.5-1 - Effect of reduced standard deviation of chance constraints on total profit "
   ]
  },
  {
   "cell_type": "code",
   "execution_count": 15,
   "metadata": {
    "nbpresent": {
     "id": "65a7bb13-1f71-495c-b87f-b894ef999658"
    }
   },
   "outputs": [
    {
     "name": "stdout",
     "output_type": "stream",
     "text": [
      "RHS after refinement of estimates: 2.326\n",
      "b1 3.7674\n",
      "b2 11.4185\n",
      "b3 16.837\n",
      "('Status:', 'Optimal')\n",
      "('x1', '=', 3.7674)\n",
      "('x2', '=', 2.7674)\n",
      "('objective=', 16.837)\n"
     ]
    }
   ],
   "source": [
    "from pulp import * \n",
    "prob = LpProblem(\"p7.5-1a\", LpMaximize)  # a.k.a Wyndor Glass Co.\n",
    "\n",
    "# Variables, lower bounds added here\n",
    "x1 = LpVariable(\"x1\",lowBound=0) \n",
    "x2 = LpVariable(\"x2\",lowBound=0)\n",
    "z = LpVariable(\"z\", 0) \n",
    "\n",
    "# Objective \n",
    "prob += 3*x1 + 2*x2, \"Objective\"\n",
    "\n",
    "# Chance Constraints (RHS)\n",
    "# b1 = 4\n",
    "# b2 = 12\n",
    "# b3 = 18\n",
    "\n",
    "# z_score = 1.645\n",
    "# #    =  mean - critical value * std_dev\n",
    "# b1 = 4 - z_score * (.2)\n",
    "# b2 = 12 - z_score * (.5)\n",
    "# b3 = 18 - z_score * (.1)\n",
    "\n",
    "\n",
    "# print(\"RHS before refinement: \" )\n",
    "# print(\"z_score \" + str(z_score))\n",
    "# print(\"b1 \"+ str(b1))\n",
    "# print(\"b2 \"+ str(b2))\n",
    "# print(\"b3 \"+ str(b3))\n",
    "\n",
    "z_score = 2.326\n",
    "#  =  mean - critical value * std_dev\n",
    "b1 = 4 - z_score * (.1)\n",
    "b2 = 12 - z_score * (.25)\n",
    "b3 = 18 - z_score * (.5)\n",
    "\n",
    "print(\"RHS after refinement of estimates: \" + str(z_score))\n",
    "print(\"b1 \"+ str(b1))\n",
    "print(\"b2 \"+ str(b2))\n",
    "print(\"b3 \"+ str(b3))\n",
    "\n",
    "# Constraints \n",
    "prob += x1 <= b1 , \"constraint 1\"\n",
    "prob += 2*x2 <= b2 , \"constraint 2\"\n",
    "prob += 3*x1 +2*x2 <= b3 , \"constraint 3\"\n",
    "\n",
    "\n",
    "# Solve the optimization problem using the specified Solver\n",
    "GLPK().solve(prob)\n",
    "\n",
    "# Solution \n",
    "print (\"Status:\", LpStatus[prob.status])\n",
    "for v in prob.variables(): \n",
    "    print (v.name, \"=\", v.varValue)\n",
    "\n",
    "print (\"objective=\", value(prob.objective) )\n",
    "\n",
    "\n"
   ]
  },
  {
   "cell_type": "markdown",
   "metadata": {
    "nbpresent": {
     "id": "9a75b86d-3707-443b-b10e-65703f82800e"
    }
   },
   "source": [
    "a) Deterministic equivalents of change constraints before...\n",
    "\n",
    "RHS before refinement:   \n",
    "z_score 1.645  \n",
    "b1 3.671  \n",
    "b2 11.1775  \n",
    "b3 17.8355  \n",
    "('Status:', 'Optimal')  \n",
    "('x1', '=', 3.671)  \n",
    "('x2', '=', 3.41125)  \n",
    "('objective=', 17.8355)  \n",
    "\n",
    "and deterministic equivalents of change constraints after refinement:  \n",
    "\n",
    "RHS after refinement of estimates: 2.326  \n",
    "b1 3.7674  \n",
    "b2 11.4185  \n",
    "b3 16.837  \n",
    "('Status:', 'Optimal')  \n",
    "('x1', '=', 3.7674)  \n",
    "('x2', '=', 2.7674)  \n",
    "('objective=', 16.837)  \n",
    "\n",
    "b) The total profit is estimated to decrease (17.84 - 16.837) ~= 1 unit based on the refined estimates in increased alpha level.    \n",
    "\n",
    "Thus the total profit per week is expected to decrease by one unit based on the careful investigation that the cut the standard deviations in half.  \n"
   ]
  },
  {
   "cell_type": "markdown",
   "metadata": {
    "nbpresent": {
     "id": "71d37200-43c0-4365-8c6a-9dc980630d31"
    }
   },
   "source": [
    "#### Problem 7.5-4 - Effect of mutually independent normal distributions on optimization\n"
   ]
  },
  {
   "cell_type": "code",
   "execution_count": 8,
   "metadata": {
    "nbpresent": {
     "id": "18abf519-8972-46ed-bfcc-bd4955ce2d7e"
    }
   },
   "outputs": [
    {
     "name": "stdout",
     "output_type": "stream",
     "text": [
      "RHS: \n",
      "b1 84.1201080464\n",
      "b2 140.130878238\n",
      "b3 168.46603591\n",
      "('Status:', 'Optimal')\n",
      "('x1', '=', 7.02733)\n",
      "('x2', '=', 21.9645)\n",
      "('x3', '=', 19.109)\n",
      "('objective=', 1277.2066)\n",
      "84\n",
      "0.977249868052\n",
      "140\n",
      "0.952209647727\n",
      "168\n",
      "0.908788780274\n",
      "A: Overall p = p(c1)*p(c2)*p(c3) : 0.845670448283\n",
      "84.11999\n",
      "0.975002299654\n",
      "140.13066\n",
      "0.950003751245\n",
      "168.46583\n",
      "0.90000401515\n",
      "C: Overall p = p(c1)*p(c2)*p(c3) : 0.833633976986\n"
     ]
    }
   ],
   "source": [
    "from pulp import *\n",
    "import scipy.stats as st\n",
    "prob = LpProblem(\"p7.5-4\", LpMaximize)  \n",
    "\n",
    "# Variables, lower bounds added here\n",
    "x1 = LpVariable(\"x1\",lowBound=0) \n",
    "x2 = LpVariable(\"x2\",lowBound=0)\n",
    "x3 = LpVariable(\"x3\",lowBound=0)\n",
    "z = LpVariable(\"z\", 0) \n",
    "\n",
    "# Objective \n",
    "prob += 20*x1 + 30*x2 + 25*x3, \"Objective\"\n",
    "\n",
    "z_score_b1 = st.norm.ppf(.975)\n",
    "z_score_b2 = st.norm.ppf(.95)\n",
    "z_score_b3 = st.norm.ppf(.90)\n",
    "#  =  mean - critical value * std_dev\n",
    "b1 = 90 - z_score_b1 * (3)\n",
    "b2 = 150 - z_score_b2 * (6)\n",
    "b3 = 180 - z_score_b3 * (9)\n",
    "\n",
    "print(\"RHS: \")\n",
    "print(\"b1 \"+ str(b1))\n",
    "print(\"b2 \"+ str(b2))\n",
    "print(\"b3 \"+ str(b3))\n",
    "\n",
    "# Constraints \n",
    "prob += 3*x1 + 2*x2 + 1*x3 <= b1 , \"constraint 1\"\n",
    "prob += 2*x1 + 4*x2 + 2*x3 <= b2 , \"constraint 2\"\n",
    "prob += 1*x1 + 3*x2 + 5*x3 <= b3 , \"constraint 3\"\n",
    "\n",
    "\n",
    "# Solve the optimization problem using the specified Solver\n",
    "GLPK().solve(prob)\n",
    "\n",
    "# Solution \n",
    "print (\"Status:\", LpStatus[prob.status])\n",
    "for v in prob.variables(): \n",
    "    print (v.name, \"=\", v.varValue)\n",
    "\n",
    "print (\"objective=\", value(prob.objective) )\n",
    "\n",
    "# part a \n",
    "x1 = 7\n",
    "x2 = 22\n",
    "x3 = 19\n",
    "\n",
    "# z_score = (obs - mean) / std\n",
    "print(3*x1 + 2*x2 + 1*x3)\n",
    "p_c1 = 1-st.norm.cdf(3*x1 + 2*x2 + 1*x3,90,3)\n",
    "print( p_c1 )\n",
    "\n",
    "print(2*x1 + 4*x2 + 2*x3)\n",
    "\n",
    "p_c2 =  1-st.norm.cdf(2*x1 + 4*x2 + 2*x3,150,6)\n",
    "print( p_c2 )\n",
    "\n",
    "print(1*x1 + 3*x2 + 5*x3)\n",
    "p_c3 = 1-st.norm.cdf(1*x1 + 3*x2 + 5*x3,180,9)\n",
    "print( p_c3 )\n",
    "\n",
    "print(\"A: Overall p = p(c1)*p(c2)*p(c3) : \"+ str(p_c1*p_c2*p_c3))\n",
    "\n",
    "\n",
    "# part c\n",
    "x1 = 7.02733\n",
    "x2 = 21.9645\n",
    "x3 = 19.109\n",
    "\n",
    "print(3*x1 + 2*x2 + 1*x3)\n",
    "p_c1 = 1-st.norm.cdf(3*x1 + 2*x2 + 1*x3,90,3)\n",
    "print( p_c1 )\n",
    "\n",
    "\n",
    "print(2*x1 + 4*x2 + 2*x3)\n",
    "p_c2 = 1-st.norm.cdf(2*x1 + 4*x2 + 2*x3,150,6)\n",
    "print( p_c2 )\n",
    "\n",
    "\n",
    "print(1*x1 + 3*x2 + 5*x3)\n",
    "p_c3 = 1-st.norm.cdf(1*x1 + 3*x2 + 5*x3,180,9)\n",
    "print( p_c3 )\n",
    "\n",
    "print(\"C: Overall p = p(c1)*p(c2)*p(c3) : \"+ str(p_c1*p_c2*p_c3))"
   ]
  },
  {
   "cell_type": "markdown",
   "metadata": {
    "nbpresent": {
     "id": "4e862aa1-6911-4627-a84d-7211fe36c555"
    }
   },
   "source": [
    "a)\n",
    "$$ p(c1) = {0.977249868052} $$\n",
    "\n",
    "$$ p(c2) = {0.952209647727} $$\n",
    "\n",
    "$$ p(c3) = {0.908788780274} $$\n",
    "\n",
    "Overall prob, part a: $$ p(c1)*p(c2)*p(c3) = 0.845670448283 $$\n",
    "b)\n",
    "\n",
    "RHS: \n",
    "b1 84.1201080464  \n",
    "b2 140.130878238  \n",
    "b3 168.46603591  \n",
    "\n",
    "Results:  \n",
    "('Status:', 'Optimal')  \n",
    "('x1', '=', 7.02733)  \n",
    "('x2', '=', 21.9645)  \n",
    "('x3', '=', 19.109)  \n",
    "('objective=', 1277.2066)  \n",
    "\n",
    "c)  \n",
    "$$p(c1) = {0.975002299654}$$\n",
    "\n",
    "$$p(c2) = {0.950003751245}$$\n",
    "\n",
    "$$p(c3) = {0.90000401515}$$\n",
    "\n",
    "Overall $$ p = p(c1)*p(c2)*p(c3) = 0.833633976986 $$ \n",
    "\n"
   ]
  },
  {
   "cell_type": "markdown",
   "metadata": {
    "nbpresent": {
     "id": "4506ee87-a752-45a2-8ea2-ffaee91c33d1"
    }
   },
   "source": [
    "#### Problem 7.6-1 "
   ]
  },
  {
   "cell_type": "code",
   "execution_count": 53,
   "metadata": {
    "nbpresent": {
     "id": "3a2ef76a-6e67-4a90-be83-6b38a703575a"
    }
   },
   "outputs": [
    {
     "name": "stdout",
     "output_type": "stream",
     "text": [
      "('Status:', 'Optimal')\n",
      "('x1', '=', 2.0)\n",
      "('x21', '=', 6.0)\n",
      "('x22', '=', 2.0)\n",
      "('objective=', 22.0)\n"
     ]
    }
   ],
   "source": [
    "from pulp import * \n",
    "prob = LpProblem(\"p7.5-1a\", LpMaximize)  #\n",
    "\n",
    "# Variables, lower bounds added here\n",
    "x1 = LpVariable(\"x1\",lowBound=0) \n",
    "x21 = LpVariable(\"x21\",lowBound=0)\n",
    "x22 = LpVariable(\"x22\",lowBound=0)\n",
    "z = LpVariable(\"z\", 0) \n",
    "\n",
    "# Objective\n",
    "p_sitation_1 = .5\n",
    "p_situation_2 = .5\n",
    "\n",
    "prob += p_sitation_1*(3*x1 + 5*x21) + p_situation_2*(3*x1 + 1*x22), \"Objective\"\n",
    "\n",
    "\n",
    "b1 = 4 \n",
    "b2 = 12 \n",
    "b3 = 18\n",
    "\n",
    "# Constraints \n",
    "prob += x1 <= b1 , \"plant constraint 1\"\n",
    "prob += 2*x21 <= b2 , \"plant constraint 2 sit 1\"\n",
    "prob += 2*x22 <= b2 , \"plant constraint 2 sit 2\"\n",
    "prob += 3*x1 +2*x21 <= b3, \"plant constraint 3 sit 1\"\n",
    "prob += 3*x1 +6*x22 <= b3, \"plant constraint 3 sit 2\"\n",
    "# Solve the optimization problem using the specified Solver\n",
    "GLPK().solve(prob)\n",
    "\n",
    "# Solution \n",
    "print (\"Status:\", LpStatus[prob.status])\n",
    "for v in prob.variables(): \n",
    "    print (v.name, \"=\", v.varValue)\n",
    "\n",
    "print (\"objective=\", value(prob.objective) )"
   ]
  },
  {
   "cell_type": "markdown",
   "metadata": {
    "nbpresent": {
     "id": "dc02f310-f3a5-4d0e-b56e-31fa5bdeecee"
    }
   },
   "source": [
    "Let's compare the objective results between the prior belief state, where Scenario Two has a probability of 0.75 and the current belief state, where we have updated information stating that the scenarios are equally likely.\n",
    "\n",
    "p(S2) = .75, p(S1) = .25\n",
    "('Status:', 'Optimal')  \n",
    "('x1', '=', 4.0)  \n",
    "('x21', '=', 3.0)  \n",
    "('x22', '=', 1.0)  \n",
    "('objective=', 16.5)  \n",
    "\n",
    "\n",
    "p(S2) = p(S1) = .5\n",
    "('Status:', 'Optimal')  \n",
    "('x1', '=', 2.0)  \n",
    "('x21', '=', 6.0)  \n",
    "('x22', '=', 2.0)  \n",
    "('objective=', 22.0)  \n",
    "\n",
    "We can see that the adverse effects of Scenario Two are reduced as the probability of that event decrease from .75 to .50.  Intuitively, this makes sense since more competition results in a lower price and other needed changes that reduce profitability.  Thus a reduction in the factor for the adverse event allow an increase in the objective using stochastic programming."
   ]
  },
  {
   "cell_type": "markdown",
   "metadata": {
    "nbpresent": {
     "id": "8fa7d227-8228-4267-ab1d-2ae84d1b4a95"
    }
   },
   "source": [
    "#### Problem 7.6-3"
   ]
  },
  {
   "cell_type": "code",
   "execution_count": 69,
   "metadata": {
    "nbpresent": {
     "id": "cdb6bc95-c088-4833-8cd4-fb7dd20314f4"
    }
   },
   "outputs": [
    {
     "name": "stdout",
     "output_type": "stream",
     "text": [
      "('Status:', 'Optimal')\n",
      "('national_market_advert_bf', '=', 0.0)\n",
      "('national_market_advert_uf', '=', 0.0)\n",
      "('national_market_advert_vf', '=', 50.0)\n",
      "('test_market_advert', '=', 10.0)\n",
      "('objective=', 30.0)\n"
     ]
    }
   ],
   "source": [
    "from pulp import * \n",
    "prob = LpProblem(\"p7.6-3\", LpMaximize)  #\n",
    "\n",
    "# Variables, lower bounds added here\n",
    "x1 = LpVariable(\"test_market_advert\",lowBound=5,upBound=10)\n",
    "x21 = LpVariable(\"national_market_advert_vf\",lowBound=0)\n",
    "x22 = LpVariable(\"national_market_advert_bf\",lowBound=0)\n",
    "x23 = LpVariable(\"national_market_advert_uf\",lowBound=0)\n",
    "z = LpVariable(\"z\", 0) \n",
    "\n",
    "# Objective\n",
    "p_very_favorable = .25\n",
    "p_barely_favorable = .25\n",
    "p_unfavorable = .5\n",
    "\n",
    "prob += .5*(x1) + p_very_favorable*( 2*x21 ) + p_barely_favorable*( 0.2*x22 ) + p_unfavorable*( 0*x23 ), \"Objective\"\n",
    "\n",
    "\n",
    "# Constraints \n",
    "prob += x21 + x22 + x23 + x21 <= 100 , \"plant constraint 1\"\n",
    "\n",
    "# Solve the optimization problem using the specified Solver\n",
    "GLPK().solve(prob)\n",
    "\n",
    "# Solution \n",
    "print (\"Status:\", LpStatus[prob.status])\n",
    "for v in prob.variables(): \n",
    "    print (v.name, \"=\", v.varValue)\n",
    "\n",
    "print (\"objective=\", value(prob.objective) )"
   ]
  },
  {
   "cell_type": "markdown",
   "metadata": {
    "nbpresent": {
     "id": "ee0932e5-b19e-49c4-9b8a-709bd9c20928"
    }
   },
   "source": [
    "10M should be spent in the test market and 50M should be spent nationally if the tests are very favorable.  No money should be spent nationally if the tests are unfavorable or barely favorable.\n",
    "\n",
    "The net cost is the objective profit of 30M less the fixed development costs of 40M or a loss of 10M.  In a statistical sense, the company should not go ahead since the expected total net profit is negative 10M.\n",
    "\n"
   ]
  }
 ],
 "metadata": {
  "anaconda-cloud": {},
  "kernelspec": {
   "display_name": "Python 3",
   "language": "python",
   "name": "python3"
  },
  "language_info": {
   "codemirror_mode": {
    "name": "ipython",
    "version": 3
   },
   "file_extension": ".py",
   "mimetype": "text/x-python",
   "name": "python",
   "nbconvert_exporter": "python",
   "pygments_lexer": "ipython3",
   "version": "3.6.2"
  },
  "nbpresent": {
   "slides": {
    "08e1c738-e7bd-42a3-9e81-e0bfaa5d59d6": {
     "id": "08e1c738-e7bd-42a3-9e81-e0bfaa5d59d6",
     "prev": "49c91046-bd50-4f4e-ab4d-12f65e2d76db",
     "regions": {
      "2663ab9f-8f32-4b82-9da6-92d6ad39d776": {
       "attrs": {
        "height": 0.8,
        "width": 0.8,
        "x": 0.1,
        "y": 0.1
       },
       "content": {
        "cell": "527cc564-0313-4052-9560-e53793fc708f",
        "part": "whole"
       },
       "id": "2663ab9f-8f32-4b82-9da6-92d6ad39d776"
      }
     }
    },
    "09aad315-7900-4daf-a9a7-b071721719ec": {
     "id": "09aad315-7900-4daf-a9a7-b071721719ec",
     "prev": "dd79e066-5934-4be0-a20c-29079376bb47",
     "regions": {
      "6bb9d6f3-b9f6-4697-837c-3ac945bfa37e": {
       "attrs": {
        "height": 0.8,
        "width": 0.8,
        "x": 0.1,
        "y": 0.1
       },
       "content": {
        "cell": "b46193d4-a314-4e6c-9277-e039e1ee04a8",
        "part": "whole"
       },
       "id": "6bb9d6f3-b9f6-4697-837c-3ac945bfa37e"
      }
     }
    },
    "0b9cd5e0-eb8b-400e-bbe0-b06476abf993": {
     "id": "0b9cd5e0-eb8b-400e-bbe0-b06476abf993",
     "prev": "cf2a7bd3-5ed9-4b3e-8121-d9e3b013a360",
     "regions": {
      "f6fd83c5-4a80-40ce-8eb8-51f1c46f70e5": {
       "attrs": {
        "height": 0.8,
        "width": 0.8,
        "x": 0.1,
        "y": 0.1
       },
       "content": {
        "cell": "ee0932e5-b19e-49c4-9b8a-709bd9c20928",
        "part": "whole"
       },
       "id": "f6fd83c5-4a80-40ce-8eb8-51f1c46f70e5"
      }
     }
    },
    "0f4a990f-3f3c-4203-8c1c-6683c29a19c8": {
     "id": "0f4a990f-3f3c-4203-8c1c-6683c29a19c8",
     "prev": "08e1c738-e7bd-42a3-9e81-e0bfaa5d59d6",
     "regions": {
      "d2b04615-b9a5-4838-a0b7-ffc68fd250fb": {
       "attrs": {
        "height": 0.8,
        "width": 0.8,
        "x": 0.1,
        "y": 0.1
       },
       "content": {
        "cell": "2f7c9ab9-f999-42b7-8b16-cf603156deb4",
        "part": "whole"
       },
       "id": "d2b04615-b9a5-4838-a0b7-ffc68fd250fb"
      }
     }
    },
    "228e7303-53a3-429c-aaff-915ef7ceec14": {
     "id": "228e7303-53a3-429c-aaff-915ef7ceec14",
     "prev": "affd73a4-cca3-406f-bcb4-65cbbd564492",
     "regions": {
      "b8b897c7-c27e-49c7-b4e5-a0560143608b": {
       "attrs": {
        "height": 0.8,
        "width": 0.8,
        "x": 0.1,
        "y": 0.1
       },
       "content": {
        "cell": "fe3a712f-a69c-4be2-9600-21ad74ad3dc4",
        "part": "whole"
       },
       "id": "b8b897c7-c27e-49c7-b4e5-a0560143608b"
      }
     }
    },
    "2667f9f4-5c99-4f65-b916-53721cafef68": {
     "id": "2667f9f4-5c99-4f65-b916-53721cafef68",
     "prev": "49f209ac-1694-4cca-973f-84d4cef3bba3",
     "regions": {
      "47e26bc0-6621-4f83-b713-f7ab577b298c": {
       "attrs": {
        "height": 0.8,
        "width": 0.8,
        "x": 0.1,
        "y": 0.1
       },
       "content": {
        "cell": "7293ae0d-9e24-4ba1-b0c0-e15ae6f00bd9",
        "part": "whole"
       },
       "id": "47e26bc0-6621-4f83-b713-f7ab577b298c"
      }
     }
    },
    "27794909-bc8e-4f43-b2bf-a8624e3299fc": {
     "id": "27794909-bc8e-4f43-b2bf-a8624e3299fc",
     "prev": "2667f9f4-5c99-4f65-b916-53721cafef68",
     "regions": {
      "8dfd368c-bf7e-4fd2-aa8f-b7cae5ef4949": {
       "attrs": {
        "height": 0.8,
        "width": 0.8,
        "x": 0.1,
        "y": 0.1
       },
       "content": {
        "cell": "6d921e3b-60b2-4bd6-84f0-136b0b1e2e89",
        "part": "whole"
       },
       "id": "8dfd368c-bf7e-4fd2-aa8f-b7cae5ef4949"
      }
     }
    },
    "2db3aaf8-52d8-4662-abf1-468c3580afeb": {
     "id": "2db3aaf8-52d8-4662-abf1-468c3580afeb",
     "prev": "d9dcbea5-c87c-418a-a699-20d91072f6e9",
     "regions": {
      "c61f08aa-f4bf-46ef-a835-7fcd7dfa03a9": {
       "attrs": {
        "height": 0.8,
        "width": 0.8,
        "x": 0.1,
        "y": 0.1
       },
       "content": {
        "cell": "4e20b10a-ad74-4907-a7ea-b1458bf1a539",
        "part": "whole"
       },
       "id": "c61f08aa-f4bf-46ef-a835-7fcd7dfa03a9"
      }
     }
    },
    "2f49d86b-6f5a-4065-9558-6014df1427a6": {
     "id": "2f49d86b-6f5a-4065-9558-6014df1427a6",
     "prev": "70c89201-67a0-477d-a801-c15dc3532346",
     "regions": {
      "bb7447cb-1648-401f-9a68-2948b2f31322": {
       "attrs": {
        "height": 0.8,
        "width": 0.8,
        "x": 0.1,
        "y": 0.1
       },
       "content": {
        "cell": "9a75b86d-3707-443b-b10e-65703f82800e",
        "part": "whole"
       },
       "id": "bb7447cb-1648-401f-9a68-2948b2f31322"
      }
     }
    },
    "332a3160-f927-4cf9-ad91-dcc221fdeb6c": {
     "id": "332a3160-f927-4cf9-ad91-dcc221fdeb6c",
     "prev": "ed96a083-80da-45fe-88bd-904aa4161700",
     "regions": {
      "c3a258ee-fe3d-4472-823b-a2b53772d9db": {
       "attrs": {
        "height": 0.8,
        "width": 0.8,
        "x": 0.1,
        "y": 0.1
       },
       "content": {
        "cell": "889e7230-0e6c-43ba-9f4b-dbec656b970a",
        "part": "whole"
       },
       "id": "c3a258ee-fe3d-4472-823b-a2b53772d9db"
      }
     }
    },
    "3742f737-27a0-4320-a464-d42701b435d3": {
     "id": "3742f737-27a0-4320-a464-d42701b435d3",
     "prev": "9aca5a40-6f94-4eed-bc27-4d608dd1e10c",
     "regions": {
      "6cc0be54-0b05-40c6-addc-322fcf8654e6": {
       "attrs": {
        "height": 0.8,
        "width": 0.8,
        "x": 0.1,
        "y": 0.1
       },
       "content": {
        "cell": "10e5f64e-ca0b-4595-845b-132b90099e35",
        "part": "whole"
       },
       "id": "6cc0be54-0b05-40c6-addc-322fcf8654e6"
      }
     }
    },
    "39d5153b-73c7-44dd-911a-8addb86ffc89": {
     "id": "39d5153b-73c7-44dd-911a-8addb86ffc89",
     "prev": "bfe26bdb-39cf-4e20-a7c2-67d5eed79c9b",
     "regions": {
      "f972bcde-11fb-447a-80c6-19d8f31d812c": {
       "attrs": {
        "height": 0.8,
        "width": 0.8,
        "x": 0.1,
        "y": 0.1
       },
       "content": {
        "cell": "58fb2549-26a2-4737-a392-1b0f02f81b91",
        "part": "whole"
       },
       "id": "f972bcde-11fb-447a-80c6-19d8f31d812c"
      }
     }
    },
    "3e19f72a-fb26-413d-9aff-d68f22c3259f": {
     "id": "3e19f72a-fb26-413d-9aff-d68f22c3259f",
     "prev": "27794909-bc8e-4f43-b2bf-a8624e3299fc",
     "regions": {
      "418e6389-d857-4356-b245-d9c7e2357ba0": {
       "attrs": {
        "height": 0.8,
        "width": 0.8,
        "x": 0.1,
        "y": 0.1
       },
       "content": {
        "cell": "784bd64f-7739-4813-bf8d-3c750a44d6c8",
        "part": "whole"
       },
       "id": "418e6389-d857-4356-b245-d9c7e2357ba0"
      }
     }
    },
    "49c91046-bd50-4f4e-ab4d-12f65e2d76db": {
     "id": "49c91046-bd50-4f4e-ab4d-12f65e2d76db",
     "prev": "7ddc0bdf-f463-4b62-814e-0da9b0f97f37",
     "regions": {
      "add711b4-ae91-4c9e-9699-85f4f408d5dd": {
       "attrs": {
        "height": 0.8,
        "width": 0.8,
        "x": 0.1,
        "y": 0.1
       },
       "content": {
        "cell": "154fd768-fc08-45ac-a272-038c900ff1d6",
        "part": "whole"
       },
       "id": "add711b4-ae91-4c9e-9699-85f4f408d5dd"
      }
     }
    },
    "49f209ac-1694-4cca-973f-84d4cef3bba3": {
     "id": "49f209ac-1694-4cca-973f-84d4cef3bba3",
     "prev": "7026492a-5853-48ae-9e25-25c7c412d717",
     "regions": {
      "684d9f2d-4445-4308-81ed-cf1ab3a18c79": {
       "attrs": {
        "height": 0.8,
        "width": 0.8,
        "x": 0.1,
        "y": 0.1
       },
       "content": {
        "cell": "9e704ffb-f7cd-46e5-bb47-a1548296206d",
        "part": "whole"
       },
       "id": "684d9f2d-4445-4308-81ed-cf1ab3a18c79"
      }
     }
    },
    "4df263ea-3475-4dc5-b855-6d9642ac1121": {
     "id": "4df263ea-3475-4dc5-b855-6d9642ac1121",
     "prev": "76966bbe-0765-4386-8b62-2e0824cbf1c0",
     "regions": {
      "136904b5-ca6f-4a28-9775-06dc87b229fc": {
       "attrs": {
        "height": 0.8,
        "width": 0.8,
        "x": 0.1,
        "y": 0.1
       },
       "content": {
        "cell": "dc02f310-f3a5-4d0e-b56e-31fa5bdeecee",
        "part": "whole"
       },
       "id": "136904b5-ca6f-4a28-9775-06dc87b229fc"
      }
     }
    },
    "57f9f207-3b06-470a-ae9b-0a48947e64b0": {
     "id": "57f9f207-3b06-470a-ae9b-0a48947e64b0",
     "prev": "be36cede-aaf6-41d6-aa8a-79a300fe4295",
     "regions": {
      "67a7c2d6-ab84-42ca-be45-5e225650cc92": {
       "attrs": {
        "height": 0.8,
        "width": 0.8,
        "x": 0.1,
        "y": 0.1
       },
       "content": {
        "cell": "4e862aa1-6911-4627-a84d-7211fe36c555",
        "part": "whole"
       },
       "id": "67a7c2d6-ab84-42ca-be45-5e225650cc92"
      }
     }
    },
    "5e93477c-f764-4029-82f5-68f1169c48ce": {
     "id": "5e93477c-f764-4029-82f5-68f1169c48ce",
     "prev": "3742f737-27a0-4320-a464-d42701b435d3",
     "regions": {
      "76ccc8d2-0556-4158-8cfe-1ec888be5c7f": {
       "attrs": {
        "height": 0.8,
        "width": 0.8,
        "x": 0.1,
        "y": 0.1
       },
       "content": {
        "cell": "310fbc9c-8c3c-412f-ace7-0d035c0ea800",
        "part": "whole"
       },
       "id": "76ccc8d2-0556-4158-8cfe-1ec888be5c7f"
      }
     }
    },
    "6bb73ddc-63c2-4559-9bc3-2bde443b2e79": {
     "id": "6bb73ddc-63c2-4559-9bc3-2bde443b2e79",
     "prev": "57f9f207-3b06-470a-ae9b-0a48947e64b0",
     "regions": {
      "d6cc4a79-8d73-471d-ba1f-79869d81f44b": {
       "attrs": {
        "height": 0.8,
        "width": 0.8,
        "x": 0.1,
        "y": 0.1
       },
       "content": {
        "cell": "4506ee87-a752-45a2-8ea2-ffaee91c33d1",
        "part": "whole"
       },
       "id": "d6cc4a79-8d73-471d-ba1f-79869d81f44b"
      }
     }
    },
    "7026492a-5853-48ae-9e25-25c7c412d717": {
     "id": "7026492a-5853-48ae-9e25-25c7c412d717",
     "prev": "9f6e14d4-cb4c-4884-9229-ac94dede8a75",
     "regions": {
      "4fce4672-f3ff-4e3c-87e2-c65d06229962": {
       "attrs": {
        "height": 0.8,
        "width": 0.8,
        "x": 0.1,
        "y": 0.1
       },
       "content": {
        "cell": "9be96700-3dd5-4adf-8d91-f2c26e978eaa",
        "part": "whole"
       },
       "id": "4fce4672-f3ff-4e3c-87e2-c65d06229962"
      }
     }
    },
    "70c89201-67a0-477d-a801-c15dc3532346": {
     "id": "70c89201-67a0-477d-a801-c15dc3532346",
     "prev": "09aad315-7900-4daf-a9a7-b071721719ec",
     "regions": {
      "9ff10c26-bd9c-4486-b252-fb1d9b912369": {
       "attrs": {
        "height": 0.8,
        "width": 0.8,
        "x": 0.1,
        "y": 0.1
       },
       "content": {
        "cell": "65a7bb13-1f71-495c-b87f-b894ef999658",
        "part": "whole"
       },
       "id": "9ff10c26-bd9c-4486-b252-fb1d9b912369"
      }
     }
    },
    "76966bbe-0765-4386-8b62-2e0824cbf1c0": {
     "id": "76966bbe-0765-4386-8b62-2e0824cbf1c0",
     "prev": "6bb73ddc-63c2-4559-9bc3-2bde443b2e79",
     "regions": {
      "fdce5f7f-bbf4-4111-b348-5852f6f89ab5": {
       "attrs": {
        "height": 0.8,
        "width": 0.8,
        "x": 0.1,
        "y": 0.1
       },
       "content": {
        "cell": "3a2ef76a-6e67-4a90-be83-6b38a703575a",
        "part": "whole"
       },
       "id": "fdce5f7f-bbf4-4111-b348-5852f6f89ab5"
      }
     }
    },
    "7ddc0bdf-f463-4b62-814e-0da9b0f97f37": {
     "id": "7ddc0bdf-f463-4b62-814e-0da9b0f97f37",
     "prev": "ccc7d044-c0be-45b5-90a1-28c93455bb37",
     "regions": {
      "5730310d-406e-4d5f-bb49-35fec0f2cfc2": {
       "attrs": {
        "height": 0.8,
        "width": 0.8,
        "x": 0.1,
        "y": 0.1
       },
       "content": {
        "cell": "87cb56cf-5281-480d-b80f-5edeec6adc39",
        "part": "whole"
       },
       "id": "5730310d-406e-4d5f-bb49-35fec0f2cfc2"
      }
     }
    },
    "7ea69da6-ca1b-4038-96b7-0cf986c96852": {
     "id": "7ea69da6-ca1b-4038-96b7-0cf986c96852",
     "prev": "228e7303-53a3-429c-aaff-915ef7ceec14",
     "regions": {
      "53e6db56-208b-4d3a-a537-a34c0195bc8e": {
       "attrs": {
        "height": 0.8,
        "width": 0.8,
        "x": 0.1,
        "y": 0.1
       },
       "content": {
        "cell": "89a25c3e-b9fc-4db3-8ff4-be9e4f572bb3",
        "part": "whole"
       },
       "id": "53e6db56-208b-4d3a-a537-a34c0195bc8e"
      }
     }
    },
    "9aca5a40-6f94-4eed-bc27-4d608dd1e10c": {
     "id": "9aca5a40-6f94-4eed-bc27-4d608dd1e10c",
     "prev": "2db3aaf8-52d8-4662-abf1-468c3580afeb",
     "regions": {
      "3367f033-9649-4206-bd65-9fa8e3c1c661": {
       "attrs": {
        "height": 0.8,
        "width": 0.8,
        "x": 0.1,
        "y": 0.1
       },
       "content": {
        "cell": "933b5309-eed1-4d79-8dfd-a5a23a76ecb8",
        "part": "whole"
       },
       "id": "3367f033-9649-4206-bd65-9fa8e3c1c661"
      }
     }
    },
    "9f6e14d4-cb4c-4884-9229-ac94dede8a75": {
     "id": "9f6e14d4-cb4c-4884-9229-ac94dede8a75",
     "prev": "7ea69da6-ca1b-4038-96b7-0cf986c96852",
     "regions": {
      "bceef199-e557-49be-9049-42c65d53f76b": {
       "attrs": {
        "height": 0.8,
        "width": 0.8,
        "x": 0.1,
        "y": 0.1
       },
       "content": {
        "cell": "4565d8d1-3214-4031-af7f-c9dc1fd261b9",
        "part": "whole"
       },
       "id": "bceef199-e557-49be-9049-42c65d53f76b"
      }
     }
    },
    "a0eb935e-78ea-4931-b6d4-995f547929b6": {
     "id": "a0eb935e-78ea-4931-b6d4-995f547929b6",
     "prev": "39d5153b-73c7-44dd-911a-8addb86ffc89",
     "regions": {
      "76b40f23-d4c6-444e-b3fa-5375c7790722": {
       "attrs": {
        "height": 0.8,
        "width": 0.8,
        "x": 0.1,
        "y": 0.1
       },
       "content": {
        "cell": "eab5cc76-cf9b-4cea-94e2-e64bb45e9c81",
        "part": "whole"
       },
       "id": "76b40f23-d4c6-444e-b3fa-5375c7790722"
      }
     }
    },
    "a2f3ce3a-0b75-482f-8f0c-c3d64abdc679": {
     "id": "a2f3ce3a-0b75-482f-8f0c-c3d64abdc679",
     "prev": null,
     "regions": {
      "fa676c4c-e27d-4447-b5a4-582930d32a0b": {
       "attrs": {
        "height": 0.8,
        "width": 0.8,
        "x": 0.1,
        "y": 0.1
       },
       "content": {
        "cell": "7147ff02-bde2-4491-b2fa-cce3a7d70fe3",
        "part": "whole"
       },
       "id": "fa676c4c-e27d-4447-b5a4-582930d32a0b"
      }
     }
    },
    "a67e9198-f95e-4d16-9ee3-15e757c0a9da": {
     "id": "a67e9198-f95e-4d16-9ee3-15e757c0a9da",
     "prev": "2f49d86b-6f5a-4065-9558-6014df1427a6",
     "regions": {
      "cd0d11c4-bddd-4e74-bb1d-e156cb808d06": {
       "attrs": {
        "height": 0.8,
        "width": 0.8,
        "x": 0.1,
        "y": 0.1
       },
       "content": {
        "cell": "71d37200-43c0-4365-8c6a-9dc980630d31",
        "part": "whole"
       },
       "id": "cd0d11c4-bddd-4e74-bb1d-e156cb808d06"
      }
     }
    },
    "ae0ccdbc-a7af-4dff-944e-c48934bf5571": {
     "id": "ae0ccdbc-a7af-4dff-944e-c48934bf5571",
     "prev": "5e93477c-f764-4029-82f5-68f1169c48ce",
     "regions": {
      "e572a00f-b83e-4fd2-8c1c-28cec006c0ef": {
       "attrs": {
        "height": 0.8,
        "width": 0.8,
        "x": 0.1,
        "y": 0.1
       },
       "content": {
        "cell": "99039e5a-e34f-43e1-b48a-6616b1e53f44",
        "part": "whole"
       },
       "id": "e572a00f-b83e-4fd2-8c1c-28cec006c0ef"
      }
     }
    },
    "affd73a4-cca3-406f-bcb4-65cbbd564492": {
     "id": "affd73a4-cca3-406f-bcb4-65cbbd564492",
     "prev": "ae0ccdbc-a7af-4dff-944e-c48934bf5571",
     "regions": {
      "4bd8c4bf-8e12-4826-9288-a89059f33b63": {
       "attrs": {
        "height": 0.8,
        "width": 0.8,
        "x": 0.1,
        "y": 0.1
       },
       "content": {
        "cell": "e6a699ca-b949-4d70-b0f1-8305061ba75d",
        "part": "whole"
       },
       "id": "4bd8c4bf-8e12-4826-9288-a89059f33b63"
      }
     }
    },
    "b910ec35-3d10-48dc-acae-d2b01dccdfca": {
     "id": "b910ec35-3d10-48dc-acae-d2b01dccdfca",
     "prev": "4df263ea-3475-4dc5-b855-6d9642ac1121",
     "regions": {
      "1c036850-7392-4e93-8980-2424235e6b94": {
       "attrs": {
        "height": 0.8,
        "width": 0.8,
        "x": 0.1,
        "y": 0.1
       },
       "content": {
        "cell": "8fa7d227-8228-4267-ab1d-2ae84d1b4a95",
        "part": "whole"
       },
       "id": "1c036850-7392-4e93-8980-2424235e6b94"
      }
     }
    },
    "be36cede-aaf6-41d6-aa8a-79a300fe4295": {
     "id": "be36cede-aaf6-41d6-aa8a-79a300fe4295",
     "prev": "a67e9198-f95e-4d16-9ee3-15e757c0a9da",
     "regions": {
      "f27ca209-327b-4ec4-9fde-52dd6b76fce6": {
       "attrs": {
        "height": 0.8,
        "width": 0.8,
        "x": 0.1,
        "y": 0.1
       },
       "content": {
        "cell": "18abf519-8972-46ed-bfcc-bd4955ce2d7e",
        "part": "whole"
       },
       "id": "f27ca209-327b-4ec4-9fde-52dd6b76fce6"
      }
     }
    },
    "be460d34-865b-461b-b30e-9f086e38cc47": {
     "id": "be460d34-865b-461b-b30e-9f086e38cc47",
     "prev": "e381636a-17cf-48ba-90b2-2453626fd1ca",
     "regions": {
      "e59bce92-f399-4c71-b7dd-58e2b0bbda55": {
       "attrs": {
        "height": 0.8,
        "width": 0.8,
        "x": 0.1,
        "y": 0.1
       },
       "content": {
        "cell": "432e8a4b-af9e-4836-aa61-ed258e126405",
        "part": "whole"
       },
       "id": "e59bce92-f399-4c71-b7dd-58e2b0bbda55"
      }
     }
    },
    "bfe26bdb-39cf-4e20-a7c2-67d5eed79c9b": {
     "id": "bfe26bdb-39cf-4e20-a7c2-67d5eed79c9b",
     "prev": "0f4a990f-3f3c-4203-8c1c-6683c29a19c8",
     "regions": {
      "199707d2-5bec-4df2-852f-a269a5a3c161": {
       "attrs": {
        "height": 0.8,
        "width": 0.8,
        "x": 0.1,
        "y": 0.1
       },
       "content": {
        "cell": "3cd356c1-28a3-4677-bbbd-29a23c403d7e",
        "part": "whole"
       },
       "id": "199707d2-5bec-4df2-852f-a269a5a3c161"
      }
     }
    },
    "ccc7d044-c0be-45b5-90a1-28c93455bb37": {
     "id": "ccc7d044-c0be-45b5-90a1-28c93455bb37",
     "prev": "be460d34-865b-461b-b30e-9f086e38cc47",
     "regions": {
      "76e6d3c3-0e18-497d-86ec-b3739102a609": {
       "attrs": {
        "height": 0.8,
        "width": 0.8,
        "x": 0.1,
        "y": 0.1
       },
       "content": {
        "cell": "e60529ee-58e8-47ed-8466-7401931b7555",
        "part": "whole"
       },
       "id": "76e6d3c3-0e18-497d-86ec-b3739102a609"
      }
     }
    },
    "cf2a7bd3-5ed9-4b3e-8121-d9e3b013a360": {
     "id": "cf2a7bd3-5ed9-4b3e-8121-d9e3b013a360",
     "prev": "b910ec35-3d10-48dc-acae-d2b01dccdfca",
     "regions": {
      "7ec1755d-1113-42f2-85c2-779d833f8551": {
       "attrs": {
        "height": 0.8,
        "width": 0.8,
        "x": 0.1,
        "y": 0.1
       },
       "content": {
        "cell": "cdb6bc95-c088-4833-8cd4-fb7dd20314f4",
        "part": "whole"
       },
       "id": "7ec1755d-1113-42f2-85c2-779d833f8551"
      }
     }
    },
    "d9dcbea5-c87c-418a-a699-20d91072f6e9": {
     "id": "d9dcbea5-c87c-418a-a699-20d91072f6e9",
     "prev": "332a3160-f927-4cf9-ad91-dcc221fdeb6c",
     "regions": {
      "e70e0c30-23b9-472a-9fb9-3f324ed3d1aa": {
       "attrs": {
        "height": 0.8,
        "width": 0.8,
        "x": 0.1,
        "y": 0.1
       },
       "content": {
        "cell": "a0c97a04-6277-42db-9b3c-7118552f6b6a",
        "part": "whole"
       },
       "id": "e70e0c30-23b9-472a-9fb9-3f324ed3d1aa"
      }
     }
    },
    "dd79e066-5934-4be0-a20c-29079376bb47": {
     "id": "dd79e066-5934-4be0-a20c-29079376bb47",
     "prev": "a0eb935e-78ea-4931-b6d4-995f547929b6",
     "regions": {
      "0f336ab3-496f-45ac-b220-69b03e777ced": {
       "attrs": {
        "height": 0.8,
        "width": 0.8,
        "x": 0.1,
        "y": 0.1
       },
       "content": {
        "cell": "de7c7c8a-2584-4a42-97ca-cc9185b5eaf2",
        "part": "whole"
       },
       "id": "0f336ab3-496f-45ac-b220-69b03e777ced"
      }
     }
    },
    "e381636a-17cf-48ba-90b2-2453626fd1ca": {
     "id": "e381636a-17cf-48ba-90b2-2453626fd1ca",
     "prev": "3e19f72a-fb26-413d-9aff-d68f22c3259f",
     "regions": {
      "92f00325-da00-452b-9d5b-522bb7159f30": {
       "attrs": {
        "height": 0.8,
        "width": 0.8,
        "x": 0.1,
        "y": 0.1
       },
       "content": {
        "cell": "2e2d5f14-a2b4-4519-bdf9-9fa1a1d622ef",
        "part": "whole"
       },
       "id": "92f00325-da00-452b-9d5b-522bb7159f30"
      }
     }
    },
    "ed96a083-80da-45fe-88bd-904aa4161700": {
     "id": "ed96a083-80da-45fe-88bd-904aa4161700",
     "prev": "a2f3ce3a-0b75-482f-8f0c-c3d64abdc679",
     "regions": {
      "04952610-fa8d-4535-96b6-5fd4236ef0a0": {
       "attrs": {
        "height": 0.8,
        "width": 0.8,
        "x": 0.1,
        "y": 0.1
       },
       "content": {
        "cell": "250150aa-408e-491e-b0f3-44ccc01203f0",
        "part": "whole"
       },
       "id": "04952610-fa8d-4535-96b6-5fd4236ef0a0"
      }
     }
    }
   },
   "themes": {}
  }
 },
 "nbformat": 4,
 "nbformat_minor": 1
}
