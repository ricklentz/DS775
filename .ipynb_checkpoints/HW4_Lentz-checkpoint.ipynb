{
 "cells": [
  {
   "cell_type": "markdown",
   "metadata": {
    "nbpresent": {
     "id": "75411a2d-2ec2-4570-ac07-a426065e7afb"
    }
   },
   "source": [
    "## Week 4 Homework ##\n",
    "### DS775 - Rick Lentz ###"
   ]
  },
  {
   "cell_type": "markdown",
   "metadata": {
    "nbpresent": {
     "id": "6702b3a2-7006-400e-99b2-2a4bd63fe29c"
    }
   },
   "source": [
    "Problem 1 (16 pts) This problem involves building a transportation model.  Instead of having suppliers ship directly to customers, this problem has factories that ship to warehouses and warehouses that ship to stores.  (Think Walmart distribution centers).  There are different per unit costs associated with shipping between factories and warehouses and also between warehouses and stores.  Your job is to minimize the total shipping costs subject to the following constraints\n",
    "\n",
    "The total supply of each product is the same as the total demand\n",
    "\n",
    "The total over all products that may be shipped along a route is constrained by CapacityFW (from Factories to Warehouses) and Capacity WS (from Warehouses to Stores)\n",
    "\n",
    "The total number of all products that may be stored in a Warehouse is limited by MaxStorage\n",
    "\n",
    "For each product and for each warehouse the total product shipped from Factories to that Warehouse is the same as the total product shipped from that Warehouse to stores.\n",
    "\n",
    "For each product, the Supply at the Factories and the Demand at the Stores is specified. \n",
    "\n"
   ]
  },
  {
   "cell_type": "code",
   "execution_count": 2,
   "metadata": {
    "collapsed": true,
    "nbpresent": {
     "id": "67d37a3e-083d-4c21-ace5-53efced99046"
    }
   },
   "outputs": [],
   "source": [
    "# read in the data\n",
    "import pandas as pd\n",
    "#data = pd.read_excel(r'/Users/stanford/GitHub/DS775/Lesson 4 Course Packet/transpsheet.xlsx')\n",
    "#data.head()"
   ]
  },
  {
   "cell_type": "code",
   "execution_count": 19,
   "metadata": {},
   "outputs": [
    {
     "data": {
      "text/html": [
       "<div>\n",
       "<style>\n",
       "    .dataframe thead tr:only-child th {\n",
       "        text-align: right;\n",
       "    }\n",
       "\n",
       "    .dataframe thead th {\n",
       "        text-align: left;\n",
       "    }\n",
       "\n",
       "    .dataframe tbody tr th {\n",
       "        vertical-align: top;\n",
       "    }\n",
       "</style>\n",
       "<table border=\"1\" class=\"dataframe\">\n",
       "  <thead>\n",
       "    <tr style=\"text-align: right;\">\n",
       "      <th></th>\n",
       "      <th>table_routes_products</th>\n",
       "      <th>table_route_origin</th>\n",
       "      <th>table_route_destination</th>\n",
       "      <th>table_route_cost</th>\n",
       "      <th>cities</th>\n",
       "      <th>products</th>\n",
       "      <th>supply_product</th>\n",
       "      <th>supply_origin</th>\n",
       "      <th>supply_qty</th>\n",
       "      <th>demand_product</th>\n",
       "      <th>demand_destination</th>\n",
       "      <th>demain_qty</th>\n",
       "    </tr>\n",
       "  </thead>\n",
       "  <tbody>\n",
       "    <tr>\n",
       "      <th>0</th>\n",
       "      <td>bands</td>\n",
       "      <td>GARY</td>\n",
       "      <td>FRA</td>\n",
       "      <td>30</td>\n",
       "      <td>GARY</td>\n",
       "      <td>bands</td>\n",
       "      <td>bands</td>\n",
       "      <td>GARY</td>\n",
       "      <td>400.0</td>\n",
       "      <td>bands</td>\n",
       "      <td>FRA</td>\n",
       "      <td>300.0</td>\n",
       "    </tr>\n",
       "    <tr>\n",
       "      <th>1</th>\n",
       "      <td>bands</td>\n",
       "      <td>GARY</td>\n",
       "      <td>DET</td>\n",
       "      <td>10</td>\n",
       "      <td>CLEV</td>\n",
       "      <td>coils</td>\n",
       "      <td>coils</td>\n",
       "      <td>GARY</td>\n",
       "      <td>800.0</td>\n",
       "      <td>coils</td>\n",
       "      <td>FRA</td>\n",
       "      <td>500.0</td>\n",
       "    </tr>\n",
       "    <tr>\n",
       "      <th>2</th>\n",
       "      <td>bands</td>\n",
       "      <td>GARY</td>\n",
       "      <td>LAN</td>\n",
       "      <td>8</td>\n",
       "      <td>PITT</td>\n",
       "      <td>plates</td>\n",
       "      <td>plate</td>\n",
       "      <td>GARY</td>\n",
       "      <td>200.0</td>\n",
       "      <td>plate</td>\n",
       "      <td>FRA</td>\n",
       "      <td>100.0</td>\n",
       "    </tr>\n",
       "    <tr>\n",
       "      <th>3</th>\n",
       "      <td>bands</td>\n",
       "      <td>GARY</td>\n",
       "      <td>WIN</td>\n",
       "      <td>10</td>\n",
       "      <td>FRA</td>\n",
       "      <td>NaN</td>\n",
       "      <td>bands</td>\n",
       "      <td>CLEV</td>\n",
       "      <td>700.0</td>\n",
       "      <td>bands</td>\n",
       "      <td>DET</td>\n",
       "      <td>300.0</td>\n",
       "    </tr>\n",
       "    <tr>\n",
       "      <th>4</th>\n",
       "      <td>bands</td>\n",
       "      <td>GARY</td>\n",
       "      <td>STL</td>\n",
       "      <td>11</td>\n",
       "      <td>DET</td>\n",
       "      <td>NaN</td>\n",
       "      <td>coils</td>\n",
       "      <td>CLEV</td>\n",
       "      <td>1600.0</td>\n",
       "      <td>coils</td>\n",
       "      <td>DET</td>\n",
       "      <td>750.0</td>\n",
       "    </tr>\n",
       "  </tbody>\n",
       "</table>\n",
       "</div>"
      ],
      "text/plain": [
       "  table_routes_products table_route_origin table_route_destination  \\\n",
       "0                 bands               GARY                     FRA   \n",
       "1                 bands               GARY                     DET   \n",
       "2                 bands               GARY                     LAN   \n",
       "3                 bands               GARY                     WIN   \n",
       "4                 bands               GARY                     STL   \n",
       "\n",
       "   table_route_cost cities products supply_product supply_origin  supply_qty  \\\n",
       "0                30   GARY    bands          bands          GARY       400.0   \n",
       "1                10   CLEV    coils          coils          GARY       800.0   \n",
       "2                 8   PITT   plates          plate          GARY       200.0   \n",
       "3                10    FRA      NaN          bands          CLEV       700.0   \n",
       "4                11    DET      NaN          coils          CLEV      1600.0   \n",
       "\n",
       "  demand_product demand_destination  demain_qty  \n",
       "0          bands                FRA       300.0  \n",
       "1          coils                FRA       500.0  \n",
       "2          plate                FRA       100.0  \n",
       "3          bands                DET       300.0  \n",
       "4          coils                DET       750.0  "
      ]
     },
     "execution_count": 19,
     "metadata": {},
     "output_type": "execute_result"
    }
   ],
   "source": [
    "data = pd.read_excel(r'/Users/stanford/GitHub/DS775/ds775_hw4_munging.xlsx')\n",
    "data.head()"
   ]
  },
  {
   "cell_type": "code",
   "execution_count": 4,
   "metadata": {
    "collapsed": true
   },
   "outputs": [],
   "source": [
    "# make sure you are ready to use cplex natively\n",
    "# 1) from the command line, source your environment\n",
    "# 2) conda install -c ibmdecisionoptimization cplex\n",
    "# Ref https://rawgit.com/IBMDecisionOptimization/docplex-doc/master/docs/index.html\n",
    "# E.g. cd /Users/stanford/Applications/IBM/ILOG/CPLEX_Studio_Community127/cplex/python/3.5/x86-64_osx \n",
    "# run python3 setup.py install\n"
   ]
  },
  {
   "cell_type": "code",
   "execution_count": 5,
   "metadata": {},
   "outputs": [
    {
     "name": "stdout",
     "output_type": "stream",
     "text": [
      "// --------------------------------------------------------------------------\n",
      "\n",
      "// Licensed Materials - Property of IBM\n",
      "\n",
      "//\n",
      "\n",
      "// 5725-A06 5725-A29 5724-Y48 5724-Y49 5724-Y54 5724-Y55\n",
      "\n",
      "// Copyright IBM Corporation 1998, 2013. All Rights Reserved.\n",
      "\n",
      "//\n",
      "\n",
      "// Note to U.S. Government Users Restricted Rights:\n",
      "\n",
      "// Use, duplication or disclosure restricted by GSA ADP Schedule\n",
      "\n",
      "// Contract with IBM Corp.\n",
      "\n",
      "// --------------------------------------------------------------------------\n",
      "\n",
      "\n",
      "\n",
      "{string} Factories = ...;\n",
      "\n",
      "{string} Warehouses = ...;\n",
      "\n",
      "{string} Stores = ...;\n",
      "\n",
      "{string} Products = ...;\n",
      "\n",
      "float CapacityFW = ...;\n",
      "\n",
      "float CapacityWS = ...;\n",
      "\n",
      "float MaxStorage = ...;\n",
      "\n",
      "\n",
      "\n",
      "tuple tableRoutesType { \n",
      "\n",
      "  string p; \n",
      "\n",
      "  string o; \n",
      "\n",
      "  string d; \n",
      "\n",
      "  float cost; \n",
      "\n",
      "}\n",
      "\n",
      "{tableRoutesType} TableRoutesFW = ...;\n",
      "\n",
      "{tableRoutesType} TableRoutesWS = ...;\n",
      "\n",
      "\n",
      "\n",
      "tuple connection { \n",
      "\n",
      "  string o; \n",
      "\n",
      "  string d; \n",
      "\n",
      "}\n",
      "\n",
      "tuple route { \n",
      "\n",
      "  string p; \n",
      "\n",
      "  connection e; \n",
      "\n",
      "}\n",
      "\n",
      "{route} RoutesFW = { < p,<o,d> > | <p,o,d,c> in TableRoutesFW };\n",
      "\n",
      "{route} RoutesWS = { < p,<o,d> > | <p,o,d,c> in TableRoutesWS };\n",
      "\n",
      "\n",
      "\n",
      "{connection} ConnectionsFW = { c | <p,c> in RoutesFW };\n",
      "\n",
      "{connection} ConnectionsWS = { c | <p,c> in RoutesWS };\n",
      "\n",
      "\n",
      "\n",
      "tuple supply{ \n",
      "\n",
      "  string p; \n",
      "\n",
      "  string o; \n",
      "\n",
      "}\n",
      "\n",
      "{supply} Suppliers = { <p,c.o> | <p,c> in RoutesFW };\n",
      "\n",
      "float Supply[Suppliers] = ...;\n",
      "\n",
      "\n",
      "\n",
      "tuple customer { \n",
      "\n",
      "  string p; \n",
      "\n",
      "  string d; \n",
      "\n",
      "}\n",
      "\n",
      "{customer} Customers = { <p,c.d> | <p,c> in RoutesWS };\n",
      "\n",
      "float Demand[Customers] = ...;\n",
      "\n",
      "\n",
      "\n",
      "float CostFW[RoutesFW] = [ <t.p,<t.o,t.d>>:t.cost | t in TableRoutesFW ];\n",
      "\n",
      "float CostWS[RoutesWS] = [ <t.p,<t.o,t.d>>:t.cost | t in TableRoutesWS ];\n",
      "\n",
      "\n",
      "\n",
      "{string} Orig[p in Products] = { c.o | <p,c> in RoutesFW };\n",
      "\n",
      "{string} Ware[p in Products] = { c.d | <p,c> in RoutesFW };\n",
      "\n",
      "{string} Dest[p in Products] = { c.d | <p,c> in RoutesWS };\n",
      "\n",
      "\n",
      "\n",
      "{connection} CPsFW[p in Products] = { c | <p,c> in RoutesFW };\n",
      "\n",
      "{connection} CPsWS[p in Products] = { c | <p,c> in RoutesWS };\n",
      "\n",
      "\n",
      "\n",
      "assert forall( p in Products ) \n",
      "\n",
      "  sum( o in Orig[p] ) \n",
      "\n",
      "    Supply[<p,o>] == sum( d in Dest[p] ) Demand[<p,d>];\n",
      "\n",
      "\n",
      "\n",
      "dvar float+ TransFW[RoutesFW];   \n",
      "\n",
      "dvar float+ TransWS[RoutesWS];\n",
      "\n",
      "dexpr float StoreW[w in Warehouses] = \n",
      "\n",
      "\tsum(p in Products) sum(<o,w> in CPsFW[p]) TransFW[<p,<o,w>>];\n",
      "\n",
      "\n",
      "\n",
      "constraint ctSupply[Products][Factories];\n",
      "\n",
      "constraint ctDemand[Products][Stores];\n",
      "\n",
      "constraint ctConnect[Products][Warehouses];\n",
      "\n",
      "\n",
      "\n",
      "minimize\n",
      "\n",
      "// you'll have two parts to the objective function\n",
      "\n",
      "// representing the total cost to ship from Factories to Warehouses plus\n",
      "\n",
      "// the total cost to ship from Warehouses to Stores\n",
      "\n",
      "// add it here\n",
      "\n",
      "   \n",
      "\n",
      "subject to {\n",
      "\n",
      "  forall( p in Products , o in Orig[p] ) \n",
      "\n",
      "      ctSupply[p][o]: \n",
      "\n",
      "      // this is the same as the supply contraint in transp.mod\n",
      "\n",
      " \n",
      "\n",
      "    forall( p in Products , d in Dest[p] ) \n",
      "\n",
      "      ctDemand[p][d]:  \n",
      "\n",
      "      // this is the same as the demand constraint in transp.mod\n",
      "\n",
      "        sum( <o,d> in CPsWS[p] ) \n",
      "\n",
      "          TransWS[< p,<o,d> >] == Demand[<p,d>];\n",
      "\n",
      "    forall( p in Products, w in Ware[p])\n",
      "\n",
      "      ctConnect[p][w]:\n",
      "\n",
      "      // this is a new contraint that says the amount of each product\n",
      "\n",
      "      // transported to and from each warehouse must match\n",
      "\n",
      "      // you'll want to use the CPsFW and CPsWS arrays to sum over\n",
      "\n",
      "      // the connections to and from each warehouse\n",
      "\n",
      "    forall( c in ConnectionsFW )\n",
      "\n",
      "      ctCapacityFW:\n",
      "\n",
      "      // similar to capacity constraint in transp.mod\n",
      "\n",
      "      // for each connection between a factory and a warehouse you'll\n",
      "\n",
      "      // have to sum over the all the products and make each connection\n",
      "\n",
      "      // has a total transport less than CapacityFW\n",
      "\n",
      "    forall( c in ConnectionsWS )\n",
      "\n",
      "      ctCapacityWC:\n",
      "\n",
      "      // similar to previous constraint except between warehouse and stores\n",
      "\n",
      "    forall( w in Warehouses )\n",
      "\n",
      "      ctStorage:\n",
      "\n",
      "      // for each warehouse sum over all the products and all the \n",
      "\n",
      "      // connections into that warehouse (or all connections from ...) and\n",
      "\n",
      "      // ensure that the total amount arriving at the warehouse is less than \n",
      "\n",
      "      // or equal to MaxStorage \t\n",
      "\n",
      "}\n",
      "\n",
      "\n",
      "\n",
      "\n",
      "\n",
      "execute DISPLAY {  \n",
      "\n",
      "  writeln(\"Transport Amounts FW:\");\n",
      "\n",
      "  for (var r in RoutesFW) {\n",
      "\n",
      "  \twriteln(\" \", r.p , \":\" , r.e.o , \"->\" , r.e.d , \" \" , TransFW[r] );\n",
      "\n",
      "  }\n",
      "\n",
      "  writeln(\"\\nStorage in Warehouse:\");\n",
      "\n",
      "  for (var w in Warehouses){\n",
      "\n",
      "  \twriteln( w,\" : \",StoreW[w] ) \n",
      "\n",
      "  }\n",
      "\n",
      "}\n",
      "\n",
      "\n",
      "\n",
      "\n",
      "\n"
     ]
    }
   ],
   "source": [
    "# template provided by instructor\n",
    "f = open(r'/Users/stanford/GitHub/DS775/Lesson 4 Course Packet/transpStore-Skeleton.mod', 'r')\n",
    "for a in f.readlines():\n",
    "    print(a)"
   ]
  },
  {
   "cell_type": "code",
   "execution_count": 6,
   "metadata": {},
   "outputs": [],
   "source": [
    "# check the environment and finish preparations\n",
    "import sys\n",
    "try:\n",
    "    import docplex.cp\n",
    "except:\n",
    "    if hasattr(sys, 'real_prefix'):\n",
    "        #we are in a virtual env.\n",
    "        !pip install docplex\n",
    "    else:\n",
    "        !pip install --user docplex"
   ]
  },
  {
   "cell_type": "code",
   "execution_count": 44,
   "metadata": {},
   "outputs": [
    {
     "ename": "ModuleNotFoundError",
     "evalue": "No module named 'cplex'",
     "output_type": "error",
     "traceback": [
      "\u001b[0;31m---------------------------------------------------------------------------\u001b[0m",
      "\u001b[0;31mModuleNotFoundError\u001b[0m                       Traceback (most recent call last)",
      "\u001b[0;32m<ipython-input-44-640eefeefeea>\u001b[0m in \u001b[0;36m<module>\u001b[0;34m()\u001b[0m\n\u001b[1;32m     12\u001b[0m \u001b[0;32mfrom\u001b[0m \u001b[0msys\u001b[0m \u001b[0;32mimport\u001b[0m \u001b[0mstdout\u001b[0m\u001b[0;34m\u001b[0m\u001b[0m\n\u001b[1;32m     13\u001b[0m \u001b[0;32mfrom\u001b[0m \u001b[0mcollections\u001b[0m \u001b[0;32mimport\u001b[0m \u001b[0mnamedtuple\u001b[0m\u001b[0;34m\u001b[0m\u001b[0m\n\u001b[0;32m---> 14\u001b[0;31m \u001b[0;32mimport\u001b[0m \u001b[0mcplex\u001b[0m\u001b[0;34m\u001b[0m\u001b[0m\n\u001b[0m",
      "\u001b[0;31mModuleNotFoundError\u001b[0m: No module named 'cplex'"
     ]
    }
   ],
   "source": [
    "# import the dependencies\n",
    "\n",
    "try:\n",
    "    import numpy as np\n",
    "    import matplotlib.pyplot as plt\n",
    "    VISU_ENABLED = True\n",
    "except ImportError:\n",
    "    VISU_ENABLED = False\n",
    "\n",
    "import docplex\n",
    "from docplex.cp.model import *\n",
    "from sys import stdout\n",
    "from collections import namedtuple\n",
    "import cplex"
   ]
  },
  {
   "cell_type": "code",
   "execution_count": 29,
   "metadata": {},
   "outputs": [
    {
     "name": "stdout",
     "output_type": "stream",
     "text": [
      "0    bands    GARY    FRA    30\n",
      "1    bands    GARY    DET    10\n",
      "2    bands    GARY    LAN    8\n",
      "3    bands    GARY    WIN    10\n",
      "4    bands    GARY    STL    11\n",
      "5    bands    GARY    FRE    71\n",
      "6    bands    GARY    LAF    6\n",
      "7    bands    CLEV    FRA    22\n",
      "8    bands    CLEV    DET    7\n",
      "9    bands    CLEV    LAN    10\n",
      "10    bands    CLEV    WIN    7\n",
      "11    bands    CLEV    STL    21\n",
      "12    bands    CLEV    FRE    82\n",
      "13    bands    CLEV    LAF    13\n",
      "14    bands    PITT    FRA    19\n",
      "15    bands    PITT    DET    11\n",
      "16    bands    PITT    LAN    12\n",
      "17    bands    PITT    WIN    10\n",
      "18    bands    PITT    STL    25\n",
      "19    bands    PITT    FRE    83\n",
      "20    bands    PITT    LAF    15\n",
      "21    coils    GARY    FRA    39\n",
      "22    coils    GARY    DET    14\n",
      "23    coils    GARY    LAN    11\n",
      "24    coils    GARY    WIN    14\n",
      "25    coils    GARY    STL    16\n",
      "26    coils    GARY    FRE    82\n",
      "27    coils    GARY    LAF    8\n",
      "28    coils    CLEV    FRA    27\n",
      "29    coils    CLEV    DET    9\n",
      "30    coils    CLEV    LAN    12\n",
      "31    coils    CLEV    WIN    9\n",
      "32    coils    CLEV    STL    26\n",
      "33    coils    CLEV    FRE    95\n",
      "34    coils    CLEV    LAF    17\n",
      "35    coils    PITT    FRA    24\n",
      "36    coils    PITT    DET    14\n",
      "37    coils    PITT    LAN    17\n",
      "38    coils    PITT    WIN    13\n",
      "39    coils    PITT    STL    28\n",
      "40    coils    PITT    FRE    99\n",
      "41    coils    PITT    LAF    20\n",
      "42    plate    GARY    FRA    41\n",
      "43    plate    GARY    DET    15\n",
      "44    plate    GARY    LAN    12\n",
      "45    plate    GARY    WIN    16\n",
      "46    plate    GARY    STL    17\n",
      "47    plate    GARY    FRE    86\n",
      "48    plate    GARY    LAF    8\n",
      "49    plate    CLEV    FRA    29\n",
      "50    plate    CLEV    DET    9\n",
      "51    plate    CLEV    LAN    13\n",
      "52    plate    CLEV    WIN    9\n",
      "53    plate    CLEV    STL    28\n",
      "54    plate    CLEV    FRE    99\n",
      "55    plate    CLEV    LAF    18\n",
      "56    plate    PITT    FRA    26\n",
      "57    plate    PITT    DET    14\n",
      "58    plate    PITT    LAN    17\n",
      "59    plate    PITT    WIN    13\n",
      "60    plate    PITT    STL    31\n",
      "61    plate    PITT    FRE    104\n",
      "62    plate    PITT    LAF    20\n"
     ]
    }
   ],
   "source": [
    "# table_route\n",
    "recs = 63\n",
    "for idx in range(recs):\n",
    "    print(str(idx)  + '    ' + data[\"table_routes_products\"][:recs][idx] + '    ' + data[\"table_route_origin\"][:recs][idx] + '    ' + data[\"table_route_destination\"][:recs][idx] + '    ' + str(data[\"table_route_cost\"][:recs][idx]) )"
   ]
  },
  {
   "cell_type": "code",
   "execution_count": 30,
   "metadata": {},
   "outputs": [
    {
     "name": "stdout",
     "output_type": "stream",
     "text": [
      "0    bands    GARY    400.0\n",
      "1    coils    GARY    800.0\n",
      "2    plate    GARY    200.0\n",
      "3    bands    CLEV    700.0\n",
      "4    coils    CLEV    1600.0\n",
      "5    plate    CLEV    300.0\n",
      "6    bands    PITT    800.0\n",
      "7    coils    PITT    1800.0\n",
      "8    plate    PITT    300.0\n"
     ]
    }
   ],
   "source": [
    "# supply\n",
    "recs = 9\n",
    "for idx in range(recs):\n",
    "    print(str(idx)  + '    ' + data[\"supply_product\"][:recs][idx] + '    ' + data[\"supply_origin\"][:recs][idx] + '    ' + str(data[\"supply_qty\"][:recs][idx]) )"
   ]
  },
  {
   "cell_type": "code",
   "execution_count": 37,
   "metadata": {},
   "outputs": [
    {
     "name": "stdout",
     "output_type": "stream",
     "text": [
      "0    bands    FRA    300.0\n",
      "1    coils    FRA    500.0\n",
      "2    plate    FRA    100.0\n",
      "3    bands    DET    300.0\n",
      "4    coils    DET    750.0\n",
      "5    plate    DET    100.0\n",
      "6    bands    LAN    100.0\n",
      "7    coils    LAN    400.0\n",
      "8    plate    LAN    0.0\n",
      "9    bands    WIN    75.0\n",
      "10    coils    WIN    250.0\n",
      "11    plate    WIN    50.0\n",
      "12    bands    STL    650.0\n",
      "13    coils    STL    950.0\n",
      "14    plate    STL    200.0\n",
      "15    bands    FRE    225.0\n",
      "16    coils    FRE    850.0\n",
      "17    plate    FRE    100.0\n",
      "18    bands    LAF    250.0\n",
      "19    coils    LAF    500.0\n",
      "20    plate    LAF    250.0\n"
     ]
    }
   ],
   "source": [
    "# supply\n",
    "recs = 21\n",
    "for idx in range(recs):\n",
    "    print(str(idx)  + '    ' + data[\"demand_product\"][:recs][idx] + '    ' + data[\"demand_destination\"][:recs][idx] + '    ' + str(data[\"demain_qty\"][:recs][idx]) )"
   ]
  },
  {
   "cell_type": "code",
   "execution_count": 41,
   "metadata": {},
   "outputs": [
    {
     "name": "stdout",
     "output_type": "stream",
     "text": [
      "0    GARY\n",
      "1    CLEV\n",
      "2    PITT\n",
      "3    FRA\n",
      "4    DET\n",
      "5    LAN\n",
      "6    WIN\n",
      "7    STL\n",
      "8    FRE\n",
      "9    LAF\n"
     ]
    }
   ],
   "source": [
    "# cities\n",
    "recs = 10\n",
    "for idx in range(recs):\n",
    "    print(str(idx)  + '    ' + data[\"cities\"][:recs][idx]  )"
   ]
  },
  {
   "cell_type": "code",
   "execution_count": 42,
   "metadata": {},
   "outputs": [
    {
     "name": "stdout",
     "output_type": "stream",
     "text": [
      "0    bands\n",
      "1    coils\n",
      "2    plates\n"
     ]
    }
   ],
   "source": [
    "# products\n",
    "recs = 3\n",
    "for idx in range(recs):\n",
    "    print(str(idx)  + '    ' + data[\"products\"][:recs][idx]  )"
   ]
  },
  {
   "cell_type": "code",
   "execution_count": 10,
   "metadata": {},
   "outputs": [],
   "source": [
    "# set up model\n",
    "mdl = CpoModel(name=\"SupplyChain\")"
   ]
  },
  {
   "cell_type": "code",
   "execution_count": null,
   "metadata": {
    "collapsed": true
   },
   "outputs": [],
   "source": [
    "# define the decision variables\n"
   ]
  },
  {
   "cell_type": "code",
   "execution_count": null,
   "metadata": {
    "collapsed": true
   },
   "outputs": [],
   "source": [
    "# express the business constraints\n",
    "\n",
    "# for each product total supply is the same as total demand\n",
    "\n",
    "# total over all products that may be shipped along a route is constrained by CapacityFW (from Factories to Warehouses) \n",
    "\n",
    "# total over all products that may be shipped along a route is constrained by Capacity WS (from Warehouses to Stores)\n",
    "\n",
    "# The total number of all products that may be stored in a Warehouse is limited by MaxStorage\n",
    "\n",
    "# For each product and for each warehouse the total product shipped from Factories to that Warehouse is the same as the total product shipped from that Warehouse to stores\n",
    "\n",
    "# For each product, the Supply at the Factories and the Demand at the Stores is specified. \n",
    "\n"
   ]
  },
  {
   "cell_type": "code",
   "execution_count": null,
   "metadata": {
    "collapsed": true
   },
   "outputs": [],
   "source": [
    "# initialize known cells\n"
   ]
  },
  {
   "cell_type": "code",
   "execution_count": null,
   "metadata": {
    "collapsed": true
   },
   "outputs": [],
   "source": [
    "# solve"
   ]
  },
  {
   "cell_type": "code",
   "execution_count": null,
   "metadata": {
    "collapsed": true
   },
   "outputs": [],
   "source": [
    "# Investigate the solution and then run an example analysis"
   ]
  }
 ],
 "metadata": {
  "anaconda-cloud": {},
  "kernelspec": {
   "display_name": "Python 3",
   "language": "python",
   "name": "python3"
  },
  "language_info": {
   "codemirror_mode": {
    "name": "ipython",
    "version": 3
   },
   "file_extension": ".py",
   "mimetype": "text/x-python",
   "name": "python",
   "nbconvert_exporter": "python",
   "pygments_lexer": "ipython3",
   "version": "3.6.2"
  },
  "nbpresent": {
   "slides": {
    "56a5e655-8080-4249-922c-088e3dca2d09": {
     "id": "56a5e655-8080-4249-922c-088e3dca2d09",
     "prev": "679131dd-74b8-4dbf-8361-19419b38b7cf",
     "regions": {
      "1a273ea6-4b11-4360-b268-36ef7a4a6719": {
       "attrs": {
        "height": 0.8,
        "width": 0.8,
        "x": 0.1,
        "y": 0.1
       },
       "content": {
        "cell": "67d37a3e-083d-4c21-ace5-53efced99046",
        "part": "whole"
       },
       "id": "1a273ea6-4b11-4360-b268-36ef7a4a6719"
      }
     }
    },
    "679131dd-74b8-4dbf-8361-19419b38b7cf": {
     "id": "679131dd-74b8-4dbf-8361-19419b38b7cf",
     "prev": "74de2948-395d-49ca-ad3a-9ba6aca84776",
     "regions": {
      "ed17a768-b707-4aa1-ac33-0fe24db18008": {
       "attrs": {
        "height": 0.8,
        "width": 0.8,
        "x": 0.1,
        "y": 0.1
       },
       "content": {
        "cell": "6702b3a2-7006-400e-99b2-2a4bd63fe29c",
        "part": "whole"
       },
       "id": "ed17a768-b707-4aa1-ac33-0fe24db18008"
      }
     }
    },
    "74de2948-395d-49ca-ad3a-9ba6aca84776": {
     "id": "74de2948-395d-49ca-ad3a-9ba6aca84776",
     "prev": null,
     "regions": {
      "ac9e7c8b-4133-47a7-bd60-cc3e7b44172c": {
       "attrs": {
        "height": 0.8,
        "width": 0.8,
        "x": 0.1,
        "y": 0.1
       },
       "content": {
        "cell": "75411a2d-2ec2-4570-ac07-a426065e7afb",
        "part": "whole"
       },
       "id": "ac9e7c8b-4133-47a7-bd60-cc3e7b44172c"
      }
     }
    }
   },
   "themes": {}
  }
 },
 "nbformat": 4,
 "nbformat_minor": 1
}
