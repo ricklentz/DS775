{
 "cells": [
  {
   "cell_type": "markdown",
   "metadata": {
    "nbpresent": {
     "id": "7147ff02-bde2-4491-b2fa-cce3a7d70fe3"
    }
   },
   "source": [
    "### Purpose:  This notebook demonstrates the solutions to constraint programming\n",
    " \n",
    "### Problems are from 'Introduction to Operations Research' Tenth Edition by Fredrick S. Hillier and Gerald J. Lieberman\n",
    "\n",
    "#### References\n",
    "#####https://developers.google.com/optimization/introduction/using\n",
    "#####https://stackoverflow.com/questions/30340431/formulating-constraints-of-a-lp-in-pulp-python\n",
    "\n"
   ]
  },
  {
   "cell_type": "code",
   "execution_count": null,
   "metadata": {},
   "outputs": [],
   "source": [
    "# cd /Users/stanford/Applications/IBM/ILOG/CPLEX_Studio_Community127/cplex/python/3.5/x86-64_osx\n",
    "# python setup.py install"
   ]
  }
 ],
 "metadata": {
  "anaconda-cloud": {},
  "kernelspec": {
   "display_name": "Python [conda root]",
   "language": "python",
   "name": "conda-root-py"
  },
  "language_info": {
   "codemirror_mode": {
    "name": "ipython",
    "version": 2
   },
   "file_extension": ".py",
   "mimetype": "text/x-python",
   "name": "python",
   "nbconvert_exporter": "python",
   "pygments_lexer": "ipython2",
   "version": "2.7.12"
  },
  "nbpresent": {
   "slides": {
    "08e1c738-e7bd-42a3-9e81-e0bfaa5d59d6": {
     "id": "08e1c738-e7bd-42a3-9e81-e0bfaa5d59d6",
     "prev": "49c91046-bd50-4f4e-ab4d-12f65e2d76db",
     "regions": {
      "2663ab9f-8f32-4b82-9da6-92d6ad39d776": {
       "attrs": {
        "height": 0.8,
        "width": 0.8,
        "x": 0.1,
        "y": 0.1
       },
       "content": {
        "cell": "527cc564-0313-4052-9560-e53793fc708f",
        "part": "whole"
       },
       "id": "2663ab9f-8f32-4b82-9da6-92d6ad39d776"
      }
     }
    },
    "09aad315-7900-4daf-a9a7-b071721719ec": {
     "id": "09aad315-7900-4daf-a9a7-b071721719ec",
     "prev": "dd79e066-5934-4be0-a20c-29079376bb47",
     "regions": {
      "6bb9d6f3-b9f6-4697-837c-3ac945bfa37e": {
       "attrs": {
        "height": 0.8,
        "width": 0.8,
        "x": 0.1,
        "y": 0.1
       },
       "content": {
        "cell": "b46193d4-a314-4e6c-9277-e039e1ee04a8",
        "part": "whole"
       },
       "id": "6bb9d6f3-b9f6-4697-837c-3ac945bfa37e"
      }
     }
    },
    "0b9cd5e0-eb8b-400e-bbe0-b06476abf993": {
     "id": "0b9cd5e0-eb8b-400e-bbe0-b06476abf993",
     "prev": "cf2a7bd3-5ed9-4b3e-8121-d9e3b013a360",
     "regions": {
      "f6fd83c5-4a80-40ce-8eb8-51f1c46f70e5": {
       "attrs": {
        "height": 0.8,
        "width": 0.8,
        "x": 0.1,
        "y": 0.1
       },
       "content": {
        "cell": "ee0932e5-b19e-49c4-9b8a-709bd9c20928",
        "part": "whole"
       },
       "id": "f6fd83c5-4a80-40ce-8eb8-51f1c46f70e5"
      }
     }
    },
    "0f4a990f-3f3c-4203-8c1c-6683c29a19c8": {
     "id": "0f4a990f-3f3c-4203-8c1c-6683c29a19c8",
     "prev": "08e1c738-e7bd-42a3-9e81-e0bfaa5d59d6",
     "regions": {
      "d2b04615-b9a5-4838-a0b7-ffc68fd250fb": {
       "attrs": {
        "height": 0.8,
        "width": 0.8,
        "x": 0.1,
        "y": 0.1
       },
       "content": {
        "cell": "2f7c9ab9-f999-42b7-8b16-cf603156deb4",
        "part": "whole"
       },
       "id": "d2b04615-b9a5-4838-a0b7-ffc68fd250fb"
      }
     }
    },
    "228e7303-53a3-429c-aaff-915ef7ceec14": {
     "id": "228e7303-53a3-429c-aaff-915ef7ceec14",
     "prev": "affd73a4-cca3-406f-bcb4-65cbbd564492",
     "regions": {
      "b8b897c7-c27e-49c7-b4e5-a0560143608b": {
       "attrs": {
        "height": 0.8,
        "width": 0.8,
        "x": 0.1,
        "y": 0.1
       },
       "content": {
        "cell": "fe3a712f-a69c-4be2-9600-21ad74ad3dc4",
        "part": "whole"
       },
       "id": "b8b897c7-c27e-49c7-b4e5-a0560143608b"
      }
     }
    },
    "2667f9f4-5c99-4f65-b916-53721cafef68": {
     "id": "2667f9f4-5c99-4f65-b916-53721cafef68",
     "prev": "49f209ac-1694-4cca-973f-84d4cef3bba3",
     "regions": {
      "47e26bc0-6621-4f83-b713-f7ab577b298c": {
       "attrs": {
        "height": 0.8,
        "width": 0.8,
        "x": 0.1,
        "y": 0.1
       },
       "content": {
        "cell": "7293ae0d-9e24-4ba1-b0c0-e15ae6f00bd9",
        "part": "whole"
       },
       "id": "47e26bc0-6621-4f83-b713-f7ab577b298c"
      }
     }
    },
    "27794909-bc8e-4f43-b2bf-a8624e3299fc": {
     "id": "27794909-bc8e-4f43-b2bf-a8624e3299fc",
     "prev": "2667f9f4-5c99-4f65-b916-53721cafef68",
     "regions": {
      "8dfd368c-bf7e-4fd2-aa8f-b7cae5ef4949": {
       "attrs": {
        "height": 0.8,
        "width": 0.8,
        "x": 0.1,
        "y": 0.1
       },
       "content": {
        "cell": "6d921e3b-60b2-4bd6-84f0-136b0b1e2e89",
        "part": "whole"
       },
       "id": "8dfd368c-bf7e-4fd2-aa8f-b7cae5ef4949"
      }
     }
    },
    "2db3aaf8-52d8-4662-abf1-468c3580afeb": {
     "id": "2db3aaf8-52d8-4662-abf1-468c3580afeb",
     "prev": "d9dcbea5-c87c-418a-a699-20d91072f6e9",
     "regions": {
      "c61f08aa-f4bf-46ef-a835-7fcd7dfa03a9": {
       "attrs": {
        "height": 0.8,
        "width": 0.8,
        "x": 0.1,
        "y": 0.1
       },
       "content": {
        "cell": "4e20b10a-ad74-4907-a7ea-b1458bf1a539",
        "part": "whole"
       },
       "id": "c61f08aa-f4bf-46ef-a835-7fcd7dfa03a9"
      }
     }
    },
    "2f49d86b-6f5a-4065-9558-6014df1427a6": {
     "id": "2f49d86b-6f5a-4065-9558-6014df1427a6",
     "prev": "70c89201-67a0-477d-a801-c15dc3532346",
     "regions": {
      "bb7447cb-1648-401f-9a68-2948b2f31322": {
       "attrs": {
        "height": 0.8,
        "width": 0.8,
        "x": 0.1,
        "y": 0.1
       },
       "content": {
        "cell": "9a75b86d-3707-443b-b10e-65703f82800e",
        "part": "whole"
       },
       "id": "bb7447cb-1648-401f-9a68-2948b2f31322"
      }
     }
    },
    "332a3160-f927-4cf9-ad91-dcc221fdeb6c": {
     "id": "332a3160-f927-4cf9-ad91-dcc221fdeb6c",
     "prev": "ed96a083-80da-45fe-88bd-904aa4161700",
     "regions": {
      "c3a258ee-fe3d-4472-823b-a2b53772d9db": {
       "attrs": {
        "height": 0.8,
        "width": 0.8,
        "x": 0.1,
        "y": 0.1
       },
       "content": {
        "cell": "889e7230-0e6c-43ba-9f4b-dbec656b970a",
        "part": "whole"
       },
       "id": "c3a258ee-fe3d-4472-823b-a2b53772d9db"
      }
     }
    },
    "3742f737-27a0-4320-a464-d42701b435d3": {
     "id": "3742f737-27a0-4320-a464-d42701b435d3",
     "prev": "9aca5a40-6f94-4eed-bc27-4d608dd1e10c",
     "regions": {
      "6cc0be54-0b05-40c6-addc-322fcf8654e6": {
       "attrs": {
        "height": 0.8,
        "width": 0.8,
        "x": 0.1,
        "y": 0.1
       },
       "content": {
        "cell": "10e5f64e-ca0b-4595-845b-132b90099e35",
        "part": "whole"
       },
       "id": "6cc0be54-0b05-40c6-addc-322fcf8654e6"
      }
     }
    },
    "39d5153b-73c7-44dd-911a-8addb86ffc89": {
     "id": "39d5153b-73c7-44dd-911a-8addb86ffc89",
     "prev": "bfe26bdb-39cf-4e20-a7c2-67d5eed79c9b",
     "regions": {
      "f972bcde-11fb-447a-80c6-19d8f31d812c": {
       "attrs": {
        "height": 0.8,
        "width": 0.8,
        "x": 0.1,
        "y": 0.1
       },
       "content": {
        "cell": "58fb2549-26a2-4737-a392-1b0f02f81b91",
        "part": "whole"
       },
       "id": "f972bcde-11fb-447a-80c6-19d8f31d812c"
      }
     }
    },
    "3e19f72a-fb26-413d-9aff-d68f22c3259f": {
     "id": "3e19f72a-fb26-413d-9aff-d68f22c3259f",
     "prev": "27794909-bc8e-4f43-b2bf-a8624e3299fc",
     "regions": {
      "418e6389-d857-4356-b245-d9c7e2357ba0": {
       "attrs": {
        "height": 0.8,
        "width": 0.8,
        "x": 0.1,
        "y": 0.1
       },
       "content": {
        "cell": "784bd64f-7739-4813-bf8d-3c750a44d6c8",
        "part": "whole"
       },
       "id": "418e6389-d857-4356-b245-d9c7e2357ba0"
      }
     }
    },
    "49c91046-bd50-4f4e-ab4d-12f65e2d76db": {
     "id": "49c91046-bd50-4f4e-ab4d-12f65e2d76db",
     "prev": "7ddc0bdf-f463-4b62-814e-0da9b0f97f37",
     "regions": {
      "add711b4-ae91-4c9e-9699-85f4f408d5dd": {
       "attrs": {
        "height": 0.8,
        "width": 0.8,
        "x": 0.1,
        "y": 0.1
       },
       "content": {
        "cell": "154fd768-fc08-45ac-a272-038c900ff1d6",
        "part": "whole"
       },
       "id": "add711b4-ae91-4c9e-9699-85f4f408d5dd"
      }
     }
    },
    "49f209ac-1694-4cca-973f-84d4cef3bba3": {
     "id": "49f209ac-1694-4cca-973f-84d4cef3bba3",
     "prev": "7026492a-5853-48ae-9e25-25c7c412d717",
     "regions": {
      "684d9f2d-4445-4308-81ed-cf1ab3a18c79": {
       "attrs": {
        "height": 0.8,
        "width": 0.8,
        "x": 0.1,
        "y": 0.1
       },
       "content": {
        "cell": "9e704ffb-f7cd-46e5-bb47-a1548296206d",
        "part": "whole"
       },
       "id": "684d9f2d-4445-4308-81ed-cf1ab3a18c79"
      }
     }
    },
    "4df263ea-3475-4dc5-b855-6d9642ac1121": {
     "id": "4df263ea-3475-4dc5-b855-6d9642ac1121",
     "prev": "76966bbe-0765-4386-8b62-2e0824cbf1c0",
     "regions": {
      "136904b5-ca6f-4a28-9775-06dc87b229fc": {
       "attrs": {
        "height": 0.8,
        "width": 0.8,
        "x": 0.1,
        "y": 0.1
       },
       "content": {
        "cell": "dc02f310-f3a5-4d0e-b56e-31fa5bdeecee",
        "part": "whole"
       },
       "id": "136904b5-ca6f-4a28-9775-06dc87b229fc"
      }
     }
    },
    "57f9f207-3b06-470a-ae9b-0a48947e64b0": {
     "id": "57f9f207-3b06-470a-ae9b-0a48947e64b0",
     "prev": "be36cede-aaf6-41d6-aa8a-79a300fe4295",
     "regions": {
      "67a7c2d6-ab84-42ca-be45-5e225650cc92": {
       "attrs": {
        "height": 0.8,
        "width": 0.8,
        "x": 0.1,
        "y": 0.1
       },
       "content": {
        "cell": "4e862aa1-6911-4627-a84d-7211fe36c555",
        "part": "whole"
       },
       "id": "67a7c2d6-ab84-42ca-be45-5e225650cc92"
      }
     }
    },
    "5e93477c-f764-4029-82f5-68f1169c48ce": {
     "id": "5e93477c-f764-4029-82f5-68f1169c48ce",
     "prev": "3742f737-27a0-4320-a464-d42701b435d3",
     "regions": {
      "76ccc8d2-0556-4158-8cfe-1ec888be5c7f": {
       "attrs": {
        "height": 0.8,
        "width": 0.8,
        "x": 0.1,
        "y": 0.1
       },
       "content": {
        "cell": "310fbc9c-8c3c-412f-ace7-0d035c0ea800",
        "part": "whole"
       },
       "id": "76ccc8d2-0556-4158-8cfe-1ec888be5c7f"
      }
     }
    },
    "6bb73ddc-63c2-4559-9bc3-2bde443b2e79": {
     "id": "6bb73ddc-63c2-4559-9bc3-2bde443b2e79",
     "prev": "57f9f207-3b06-470a-ae9b-0a48947e64b0",
     "regions": {
      "d6cc4a79-8d73-471d-ba1f-79869d81f44b": {
       "attrs": {
        "height": 0.8,
        "width": 0.8,
        "x": 0.1,
        "y": 0.1
       },
       "content": {
        "cell": "4506ee87-a752-45a2-8ea2-ffaee91c33d1",
        "part": "whole"
       },
       "id": "d6cc4a79-8d73-471d-ba1f-79869d81f44b"
      }
     }
    },
    "7026492a-5853-48ae-9e25-25c7c412d717": {
     "id": "7026492a-5853-48ae-9e25-25c7c412d717",
     "prev": "9f6e14d4-cb4c-4884-9229-ac94dede8a75",
     "regions": {
      "4fce4672-f3ff-4e3c-87e2-c65d06229962": {
       "attrs": {
        "height": 0.8,
        "width": 0.8,
        "x": 0.1,
        "y": 0.1
       },
       "content": {
        "cell": "9be96700-3dd5-4adf-8d91-f2c26e978eaa",
        "part": "whole"
       },
       "id": "4fce4672-f3ff-4e3c-87e2-c65d06229962"
      }
     }
    },
    "70c89201-67a0-477d-a801-c15dc3532346": {
     "id": "70c89201-67a0-477d-a801-c15dc3532346",
     "prev": "09aad315-7900-4daf-a9a7-b071721719ec",
     "regions": {
      "9ff10c26-bd9c-4486-b252-fb1d9b912369": {
       "attrs": {
        "height": 0.8,
        "width": 0.8,
        "x": 0.1,
        "y": 0.1
       },
       "content": {
        "cell": "65a7bb13-1f71-495c-b87f-b894ef999658",
        "part": "whole"
       },
       "id": "9ff10c26-bd9c-4486-b252-fb1d9b912369"
      }
     }
    },
    "76966bbe-0765-4386-8b62-2e0824cbf1c0": {
     "id": "76966bbe-0765-4386-8b62-2e0824cbf1c0",
     "prev": "6bb73ddc-63c2-4559-9bc3-2bde443b2e79",
     "regions": {
      "fdce5f7f-bbf4-4111-b348-5852f6f89ab5": {
       "attrs": {
        "height": 0.8,
        "width": 0.8,
        "x": 0.1,
        "y": 0.1
       },
       "content": {
        "cell": "3a2ef76a-6e67-4a90-be83-6b38a703575a",
        "part": "whole"
       },
       "id": "fdce5f7f-bbf4-4111-b348-5852f6f89ab5"
      }
     }
    },
    "7ddc0bdf-f463-4b62-814e-0da9b0f97f37": {
     "id": "7ddc0bdf-f463-4b62-814e-0da9b0f97f37",
     "prev": "ccc7d044-c0be-45b5-90a1-28c93455bb37",
     "regions": {
      "5730310d-406e-4d5f-bb49-35fec0f2cfc2": {
       "attrs": {
        "height": 0.8,
        "width": 0.8,
        "x": 0.1,
        "y": 0.1
       },
       "content": {
        "cell": "87cb56cf-5281-480d-b80f-5edeec6adc39",
        "part": "whole"
       },
       "id": "5730310d-406e-4d5f-bb49-35fec0f2cfc2"
      }
     }
    },
    "7ea69da6-ca1b-4038-96b7-0cf986c96852": {
     "id": "7ea69da6-ca1b-4038-96b7-0cf986c96852",
     "prev": "228e7303-53a3-429c-aaff-915ef7ceec14",
     "regions": {
      "53e6db56-208b-4d3a-a537-a34c0195bc8e": {
       "attrs": {
        "height": 0.8,
        "width": 0.8,
        "x": 0.1,
        "y": 0.1
       },
       "content": {
        "cell": "89a25c3e-b9fc-4db3-8ff4-be9e4f572bb3",
        "part": "whole"
       },
       "id": "53e6db56-208b-4d3a-a537-a34c0195bc8e"
      }
     }
    },
    "9aca5a40-6f94-4eed-bc27-4d608dd1e10c": {
     "id": "9aca5a40-6f94-4eed-bc27-4d608dd1e10c",
     "prev": "2db3aaf8-52d8-4662-abf1-468c3580afeb",
     "regions": {
      "3367f033-9649-4206-bd65-9fa8e3c1c661": {
       "attrs": {
        "height": 0.8,
        "width": 0.8,
        "x": 0.1,
        "y": 0.1
       },
       "content": {
        "cell": "933b5309-eed1-4d79-8dfd-a5a23a76ecb8",
        "part": "whole"
       },
       "id": "3367f033-9649-4206-bd65-9fa8e3c1c661"
      }
     }
    },
    "9f6e14d4-cb4c-4884-9229-ac94dede8a75": {
     "id": "9f6e14d4-cb4c-4884-9229-ac94dede8a75",
     "prev": "7ea69da6-ca1b-4038-96b7-0cf986c96852",
     "regions": {
      "bceef199-e557-49be-9049-42c65d53f76b": {
       "attrs": {
        "height": 0.8,
        "width": 0.8,
        "x": 0.1,
        "y": 0.1
       },
       "content": {
        "cell": "4565d8d1-3214-4031-af7f-c9dc1fd261b9",
        "part": "whole"
       },
       "id": "bceef199-e557-49be-9049-42c65d53f76b"
      }
     }
    },
    "a0eb935e-78ea-4931-b6d4-995f547929b6": {
     "id": "a0eb935e-78ea-4931-b6d4-995f547929b6",
     "prev": "39d5153b-73c7-44dd-911a-8addb86ffc89",
     "regions": {
      "76b40f23-d4c6-444e-b3fa-5375c7790722": {
       "attrs": {
        "height": 0.8,
        "width": 0.8,
        "x": 0.1,
        "y": 0.1
       },
       "content": {
        "cell": "eab5cc76-cf9b-4cea-94e2-e64bb45e9c81",
        "part": "whole"
       },
       "id": "76b40f23-d4c6-444e-b3fa-5375c7790722"
      }
     }
    },
    "a2f3ce3a-0b75-482f-8f0c-c3d64abdc679": {
     "id": "a2f3ce3a-0b75-482f-8f0c-c3d64abdc679",
     "prev": null,
     "regions": {
      "fa676c4c-e27d-4447-b5a4-582930d32a0b": {
       "attrs": {
        "height": 0.8,
        "width": 0.8,
        "x": 0.1,
        "y": 0.1
       },
       "content": {
        "cell": "7147ff02-bde2-4491-b2fa-cce3a7d70fe3",
        "part": "whole"
       },
       "id": "fa676c4c-e27d-4447-b5a4-582930d32a0b"
      }
     }
    },
    "a67e9198-f95e-4d16-9ee3-15e757c0a9da": {
     "id": "a67e9198-f95e-4d16-9ee3-15e757c0a9da",
     "prev": "2f49d86b-6f5a-4065-9558-6014df1427a6",
     "regions": {
      "cd0d11c4-bddd-4e74-bb1d-e156cb808d06": {
       "attrs": {
        "height": 0.8,
        "width": 0.8,
        "x": 0.1,
        "y": 0.1
       },
       "content": {
        "cell": "71d37200-43c0-4365-8c6a-9dc980630d31",
        "part": "whole"
       },
       "id": "cd0d11c4-bddd-4e74-bb1d-e156cb808d06"
      }
     }
    },
    "ae0ccdbc-a7af-4dff-944e-c48934bf5571": {
     "id": "ae0ccdbc-a7af-4dff-944e-c48934bf5571",
     "prev": "5e93477c-f764-4029-82f5-68f1169c48ce",
     "regions": {
      "e572a00f-b83e-4fd2-8c1c-28cec006c0ef": {
       "attrs": {
        "height": 0.8,
        "width": 0.8,
        "x": 0.1,
        "y": 0.1
       },
       "content": {
        "cell": "99039e5a-e34f-43e1-b48a-6616b1e53f44",
        "part": "whole"
       },
       "id": "e572a00f-b83e-4fd2-8c1c-28cec006c0ef"
      }
     }
    },
    "affd73a4-cca3-406f-bcb4-65cbbd564492": {
     "id": "affd73a4-cca3-406f-bcb4-65cbbd564492",
     "prev": "ae0ccdbc-a7af-4dff-944e-c48934bf5571",
     "regions": {
      "4bd8c4bf-8e12-4826-9288-a89059f33b63": {
       "attrs": {
        "height": 0.8,
        "width": 0.8,
        "x": 0.1,
        "y": 0.1
       },
       "content": {
        "cell": "e6a699ca-b949-4d70-b0f1-8305061ba75d",
        "part": "whole"
       },
       "id": "4bd8c4bf-8e12-4826-9288-a89059f33b63"
      }
     }
    },
    "b910ec35-3d10-48dc-acae-d2b01dccdfca": {
     "id": "b910ec35-3d10-48dc-acae-d2b01dccdfca",
     "prev": "4df263ea-3475-4dc5-b855-6d9642ac1121",
     "regions": {
      "1c036850-7392-4e93-8980-2424235e6b94": {
       "attrs": {
        "height": 0.8,
        "width": 0.8,
        "x": 0.1,
        "y": 0.1
       },
       "content": {
        "cell": "8fa7d227-8228-4267-ab1d-2ae84d1b4a95",
        "part": "whole"
       },
       "id": "1c036850-7392-4e93-8980-2424235e6b94"
      }
     }
    },
    "be36cede-aaf6-41d6-aa8a-79a300fe4295": {
     "id": "be36cede-aaf6-41d6-aa8a-79a300fe4295",
     "prev": "a67e9198-f95e-4d16-9ee3-15e757c0a9da",
     "regions": {
      "f27ca209-327b-4ec4-9fde-52dd6b76fce6": {
       "attrs": {
        "height": 0.8,
        "width": 0.8,
        "x": 0.1,
        "y": 0.1
       },
       "content": {
        "cell": "18abf519-8972-46ed-bfcc-bd4955ce2d7e",
        "part": "whole"
       },
       "id": "f27ca209-327b-4ec4-9fde-52dd6b76fce6"
      }
     }
    },
    "be460d34-865b-461b-b30e-9f086e38cc47": {
     "id": "be460d34-865b-461b-b30e-9f086e38cc47",
     "prev": "e381636a-17cf-48ba-90b2-2453626fd1ca",
     "regions": {
      "e59bce92-f399-4c71-b7dd-58e2b0bbda55": {
       "attrs": {
        "height": 0.8,
        "width": 0.8,
        "x": 0.1,
        "y": 0.1
       },
       "content": {
        "cell": "432e8a4b-af9e-4836-aa61-ed258e126405",
        "part": "whole"
       },
       "id": "e59bce92-f399-4c71-b7dd-58e2b0bbda55"
      }
     }
    },
    "bfe26bdb-39cf-4e20-a7c2-67d5eed79c9b": {
     "id": "bfe26bdb-39cf-4e20-a7c2-67d5eed79c9b",
     "prev": "0f4a990f-3f3c-4203-8c1c-6683c29a19c8",
     "regions": {
      "199707d2-5bec-4df2-852f-a269a5a3c161": {
       "attrs": {
        "height": 0.8,
        "width": 0.8,
        "x": 0.1,
        "y": 0.1
       },
       "content": {
        "cell": "3cd356c1-28a3-4677-bbbd-29a23c403d7e",
        "part": "whole"
       },
       "id": "199707d2-5bec-4df2-852f-a269a5a3c161"
      }
     }
    },
    "ccc7d044-c0be-45b5-90a1-28c93455bb37": {
     "id": "ccc7d044-c0be-45b5-90a1-28c93455bb37",
     "prev": "be460d34-865b-461b-b30e-9f086e38cc47",
     "regions": {
      "76e6d3c3-0e18-497d-86ec-b3739102a609": {
       "attrs": {
        "height": 0.8,
        "width": 0.8,
        "x": 0.1,
        "y": 0.1
       },
       "content": {
        "cell": "e60529ee-58e8-47ed-8466-7401931b7555",
        "part": "whole"
       },
       "id": "76e6d3c3-0e18-497d-86ec-b3739102a609"
      }
     }
    },
    "cf2a7bd3-5ed9-4b3e-8121-d9e3b013a360": {
     "id": "cf2a7bd3-5ed9-4b3e-8121-d9e3b013a360",
     "prev": "b910ec35-3d10-48dc-acae-d2b01dccdfca",
     "regions": {
      "7ec1755d-1113-42f2-85c2-779d833f8551": {
       "attrs": {
        "height": 0.8,
        "width": 0.8,
        "x": 0.1,
        "y": 0.1
       },
       "content": {
        "cell": "cdb6bc95-c088-4833-8cd4-fb7dd20314f4",
        "part": "whole"
       },
       "id": "7ec1755d-1113-42f2-85c2-779d833f8551"
      }
     }
    },
    "d9dcbea5-c87c-418a-a699-20d91072f6e9": {
     "id": "d9dcbea5-c87c-418a-a699-20d91072f6e9",
     "prev": "332a3160-f927-4cf9-ad91-dcc221fdeb6c",
     "regions": {
      "e70e0c30-23b9-472a-9fb9-3f324ed3d1aa": {
       "attrs": {
        "height": 0.8,
        "width": 0.8,
        "x": 0.1,
        "y": 0.1
       },
       "content": {
        "cell": "a0c97a04-6277-42db-9b3c-7118552f6b6a",
        "part": "whole"
       },
       "id": "e70e0c30-23b9-472a-9fb9-3f324ed3d1aa"
      }
     }
    },
    "dd79e066-5934-4be0-a20c-29079376bb47": {
     "id": "dd79e066-5934-4be0-a20c-29079376bb47",
     "prev": "a0eb935e-78ea-4931-b6d4-995f547929b6",
     "regions": {
      "0f336ab3-496f-45ac-b220-69b03e777ced": {
       "attrs": {
        "height": 0.8,
        "width": 0.8,
        "x": 0.1,
        "y": 0.1
       },
       "content": {
        "cell": "de7c7c8a-2584-4a42-97ca-cc9185b5eaf2",
        "part": "whole"
       },
       "id": "0f336ab3-496f-45ac-b220-69b03e777ced"
      }
     }
    },
    "e381636a-17cf-48ba-90b2-2453626fd1ca": {
     "id": "e381636a-17cf-48ba-90b2-2453626fd1ca",
     "prev": "3e19f72a-fb26-413d-9aff-d68f22c3259f",
     "regions": {
      "92f00325-da00-452b-9d5b-522bb7159f30": {
       "attrs": {
        "height": 0.8,
        "width": 0.8,
        "x": 0.1,
        "y": 0.1
       },
       "content": {
        "cell": "2e2d5f14-a2b4-4519-bdf9-9fa1a1d622ef",
        "part": "whole"
       },
       "id": "92f00325-da00-452b-9d5b-522bb7159f30"
      }
     }
    },
    "ed96a083-80da-45fe-88bd-904aa4161700": {
     "id": "ed96a083-80da-45fe-88bd-904aa4161700",
     "prev": "a2f3ce3a-0b75-482f-8f0c-c3d64abdc679",
     "regions": {
      "04952610-fa8d-4535-96b6-5fd4236ef0a0": {
       "attrs": {
        "height": 0.8,
        "width": 0.8,
        "x": 0.1,
        "y": 0.1
       },
       "content": {
        "cell": "250150aa-408e-491e-b0f3-44ccc01203f0",
        "part": "whole"
       },
       "id": "04952610-fa8d-4535-96b6-5fd4236ef0a0"
      }
     }
    }
   },
   "themes": {}
  }
 },
 "nbformat": 4,
 "nbformat_minor": 1
}
