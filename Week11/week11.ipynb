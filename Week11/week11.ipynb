{
 "cells": [
  {
   "cell_type": "markdown",
   "metadata": {},
   "source": [
    "### 20.1.3"
   ]
  },
  {
   "cell_type": "code",
   "execution_count": 9,
   "metadata": {
    "collapsed": true
   },
   "outputs": [],
   "source": [
    "# Formulate a spreadsheet model for performing a simulation of the daily sales.\n",
    "# Perforom 300 replications and obtain the average of the sales over the 300 simulated days.\n",
    "%matplotlib inline\n",
    "import random\n",
    "\n",
    "def simulate_sales_distribution_using_uniform_random():\n",
    "    number = random.uniform(0.0,1.0)\n",
    "    if number > 0.96:\n",
    "        return 6\n",
    "    if number > .76:\n",
    "        return 5\n",
    "    if number > .44:\n",
    "        return 4\n",
    "    if number > .16:\n",
    "        return 3\n",
    "    if number > 0:\n",
    "        return 2\n",
    "    return 0\n",
    "\n",
    "    "
   ]
  },
  {
   "cell_type": "code",
   "execution_count": 11,
   "metadata": {},
   "outputs": [],
   "source": [
    "sales_list = list()\n",
    "for indx in range(300):\n",
    "    sales_list.append(simulate_sales_distribution_using_uniform_random())\n"
   ]
  },
  {
   "cell_type": "code",
   "execution_count": 12,
   "metadata": {},
   "outputs": [
    {
     "name": "stdout",
     "output_type": "stream",
     "text": [
      "[3, 6, 4, 4, 4, 5, 3, 2, 2, 2, 4, 4, 4, 2, 5, 4, 3, 2, 4, 5, 4, 3, 4, 4, 2, 5, 4, 6, 2, 3, 3, 5, 5, 5, 4, 4, 5, 3, 4, 2, 5, 4, 5, 3, 4, 2, 5, 4, 5, 3, 2, 4, 4, 2, 2, 3, 5, 3, 5, 5, 2, 5, 2, 2, 3, 4, 2, 4, 4, 5, 4, 4, 3, 2, 2, 5, 4, 6, 4, 4, 4, 2, 3, 2, 4, 2, 4, 3, 3, 2, 5, 5, 3, 4, 5, 4, 3, 5, 3, 4, 3, 5, 2, 5, 5, 4, 4, 4, 5, 3, 3, 4, 5, 5, 5, 3, 5, 3, 2, 3, 3, 6, 5, 4, 3, 4, 4, 3, 4, 2, 4, 5, 5, 5, 2, 2, 3, 4, 2, 4, 3, 3, 4, 4, 3, 5, 4, 2, 4, 2, 2, 4, 4, 2, 5, 5, 3, 2, 2, 3, 3, 5, 2, 4, 3, 4, 4, 3, 4, 3, 3, 3, 4, 4, 2, 4, 3, 4, 5, 4, 3, 6, 5, 3, 6, 5, 3, 5, 3, 4, 3, 5, 2, 2, 4, 3, 4, 4, 3, 5, 3, 3, 3, 4, 4, 2, 6, 3, 3, 2, 5, 5, 3, 4, 4, 5, 4, 4, 5, 4, 3, 3, 3, 3, 2, 4, 6, 3, 5, 3, 3, 4, 4, 2, 4, 5, 2, 5, 5, 5, 3, 3, 5, 5, 5, 3, 3, 3, 2, 4, 4, 4, 5, 3, 3, 2, 2, 4, 4, 3, 5, 3, 2, 4, 5, 2, 5, 5, 5, 2, 3, 5, 5, 3, 5, 5, 5, 3, 4, 4, 3, 3, 4, 5, 3, 6, 4, 5, 4, 2, 3, 4, 3, 5, 3, 2, 5, 4, 3, 5]\n"
     ]
    }
   ],
   "source": [
    "print(sales_list)"
   ]
  },
  {
   "cell_type": "code",
   "execution_count": 14,
   "metadata": {},
   "outputs": [
    {
     "data": {
      "text/plain": [
       "3.6933333333333334"
      ]
     },
     "execution_count": 14,
     "metadata": {},
     "output_type": "execute_result"
    }
   ],
   "source": [
    "import numpy as np\n",
    "\n",
    "np.array(sales_list).mean()\n"
   ]
  },
  {
   "cell_type": "markdown",
   "metadata": {},
   "source": [
    "### 20.6.7"
   ]
  },
  {
   "cell_type": "code",
   "execution_count": 22,
   "metadata": {},
   "outputs": [
    {
     "name": "stdout",
     "output_type": "stream",
     "text": [
      "A:) After 1000 runs, the expected return on the college account is 36016.2432591\n"
     ]
    }
   ],
   "source": [
    "\n",
    "\n",
    "import numpy as np\n",
    "# set up the simulation to run 1000 times\n",
    "performance_list=list()\n",
    "for i in range(1000):\n",
    "    \n",
    "    #get the normally distributed equity and bond portfolio returns\n",
    "    # time zero initial investment\n",
    "    stk_act_value =5000\n",
    "    bond_act_value =5000\n",
    "    annual_pmt = 4000\n",
    "    market_portfolio_expected_return = .08\n",
    "    market_portfolio_std_dev = .06\n",
    "    bond_portfolio_expected_return=.04\n",
    "    bond_portfolio_std_dev = .03\n",
    "    for i in range(5):\n",
    "\n",
    "        stk_mkt = 1+np.random.normal(market_portfolio_expected_return,market_portfolio_std_dev,1)\n",
    "        bond_mkt = 1+np.random.normal(bond_portfolio_expected_return,bond_portfolio_std_dev,1)\n",
    "        bond_act_value=bond_act_value*bond_mkt+2000\n",
    "        stk_act_value=stk_act_value*stk_mkt+2000\n",
    "\n",
    "    #print(\"Jennifers college account is \" + str(bond_act_value + stk_act_value))\n",
    "    performance_list.append(bond_act_value + stk_act_value)\n",
    "\n",
    "print(\"A:) After 1000 runs, the expected return on the college account is \" + str(np.array(performance_list).mean()))\n"
   ]
  },
  {
   "cell_type": "code",
   "execution_count": 23,
   "metadata": {},
   "outputs": [
    {
     "name": "stdout",
     "output_type": "stream",
     "text": [
      "B:) After 1000 runs, the standard deviation of college account is 1828.43464277\n"
     ]
    }
   ],
   "source": [
    "print(\"B:) After 1000 runs, the standard deviation of college account is \" + str(np.array(performance_list).std()))\n"
   ]
  },
  {
   "cell_type": "code",
   "execution_count": 40,
   "metadata": {},
   "outputs": [
    {
     "name": "stdout",
     "output_type": "stream",
     "text": [
      "C: Null hyp is at least, one-tailed test\n",
      "-3983.75674088\n",
      "57.8201802392\n",
      "-68.8990716458\n",
      "The odds are very high: 0.0\n"
     ]
    }
   ],
   "source": [
    "print(\"C: Null hyp is at least, one-tailed test\")\n",
    "numerator=(np.array(performance_list).mean()-40000)\n",
    "std_error=((np.array(performance_list).std()/np.sqrt(1000)))\n",
    "print(numerator)\n",
    "print(std_error)\n",
    "tt=numerator/std_error\n",
    "print(tt)\n",
    "from scipy import stats\n",
    "pval = scipy.stats.t.sf(np.abs(tt), 1000-1)*2\n",
    "print(\"The odds are very high: \"+ str(pval))"
   ]
  },
  {
   "cell_type": "code",
   "execution_count": 35,
   "metadata": {},
   "outputs": [
    {
     "name": "stdout",
     "output_type": "stream",
     "text": [
      "C: Null hyp is at least, one-tailed test\n",
      "-68.8990716458\n",
      "It is unlikely that the fund will be greater than 40k: 0.0\n"
     ]
    }
   ],
   "source": [
    "print(\"C: Null hyp is at least, one-tailed test\")\n",
    "tt=(np.array(performance_list).mean()-40000)/((np.array(performance_list).std()/np.sqrt(1000)))\n",
    "print(tt)\n",
    "from scipy import stats\n",
    "pval = scipy.stats.t.sf(np.abs(tt), 1000-1)*2\n",
    "print(\"It is unlikely that the fund will be greater than 40k: \"+ str(pval))"
   ]
  },
  {
   "cell_type": "code",
   "execution_count": null,
   "metadata": {
    "collapsed": true
   },
   "outputs": [],
   "source": []
  }
 ],
 "metadata": {
  "kernelspec": {
   "display_name": "Python 3",
   "language": "python",
   "name": "python3"
  },
  "language_info": {
   "codemirror_mode": {
    "name": "ipython",
    "version": 3
   },
   "file_extension": ".py",
   "mimetype": "text/x-python",
   "name": "python",
   "nbconvert_exporter": "python",
   "pygments_lexer": "ipython3",
   "version": "3.5.0"
  }
 },
 "nbformat": 4,
 "nbformat_minor": 2
}
